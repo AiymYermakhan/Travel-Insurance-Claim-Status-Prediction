{
 "cells": [
  {
   "cell_type": "markdown",
   "id": "bad85ee9",
   "metadata": {},
   "source": [
    "<h1 style='text-align:center'>Travel Insurance Claim Status Prediction</h1>\n",
    "<h3 style='text-align:left'>Students Name: Maryam Baizhigitova, Moldir Kumarbek, Aiym Yermakhan </h3>"
   ]
  },
  {
   "cell_type": "markdown",
   "id": "23ba32be",
   "metadata": {},
   "source": [
    "Following are the features of the dataset: (62288 rows × 12 columns)\n",
    "\n",
    "- **Target:** Claim Status (Claim) \n",
    "- Name of agency (Agency) \n",
    "- Type of travel insurance agencies (Agency.Type) \n",
    "- Distribution channel of travel insurance agencies (Distribution.Channel) \n",
    "- Name of the travel insurance products (Product.Name) \n",
    "- Duration of travel (Duration) \n",
    "- Destination of travel (Destination) \n",
    "- Amount of sales of travel insurance policies (Net.Sales) \n",
    "- The commission received for travel insurance agency (Commission) \n",
    "- Gender of insured (Gender) \n",
    "- Age of insured (Age)\n",
    "- ID"
   ]
  },
  {
   "cell_type": "code",
   "execution_count": 1,
   "id": "e83a27b5",
   "metadata": {},
   "outputs": [],
   "source": [
    "#import libraries\n",
    "import pandas as pd\n",
    "import numpy as np\n",
    "\n",
    "#importing liabraries for graphical representation\n",
    "import matplotlib.pyplot as plt\n",
    "import seaborn as sns\n",
    "from pandas.plotting import scatter_matrix\n",
    "import matplotlib.patches as mpatches\n",
    "from matplotlib import rcParams\n",
    "from matplotlib.cm import rainbow\n",
    "%matplotlib inline\n",
    "\n",
    "#Packages for feature engineering\n",
    "from sklearn.model_selection import train_test_split, StratifiedKFold,cross_val_score\n",
    "from sklearn.linear_model import LogisticRegression, SGDClassifier\n",
    "from sklearn.tree import DecisionTreeClassifier\n",
    "from sklearn.ensemble import RandomForestClassifier, AdaBoostClassifier\n",
    "from statsmodels.tools.eval_measures import rmse\n",
    "from scipy import stats\n",
    "from sklearn.metrics import classification_report, accuracy_score, confusion_matrix\n",
    "import statsmodels.api as sm\n",
    "from sklearn.neighbors import KNeighborsClassifier\n",
    "from sklearn.discriminant_analysis import LinearDiscriminantAnalysis\n",
    "from sklearn.naive_bayes import GaussianNB\n",
    "from sklearn.feature_selection import RFE"
   ]
  },
  {
   "cell_type": "code",
   "execution_count": 2,
   "id": "5bb628ca",
   "metadata": {},
   "outputs": [
    {
     "name": "stdout",
     "output_type": "stream",
     "text": [
      "Index(['ID', 'Age', 'Agency', 'Agency Type', 'Commision (in value)',\n",
      "       'Destination', 'Distribution Channel', 'Duration', 'Gender',\n",
      "       'Net Sales', 'Product Name', 'Claim'],\n",
      "      dtype='object')\n"
     ]
    }
   ],
   "source": [
    "data = pd.read_csv('dataset.csv', low_memory=False)\n",
    "print(data.columns)"
   ]
  },
  {
   "cell_type": "code",
   "execution_count": 3,
   "id": "b1ff7a39",
   "metadata": {},
   "outputs": [
    {
     "data": {
      "text/html": [
       "<div>\n",
       "<style scoped>\n",
       "    .dataframe tbody tr th:only-of-type {\n",
       "        vertical-align: middle;\n",
       "    }\n",
       "\n",
       "    .dataframe tbody tr th {\n",
       "        vertical-align: top;\n",
       "    }\n",
       "\n",
       "    .dataframe thead th {\n",
       "        text-align: right;\n",
       "    }\n",
       "</style>\n",
       "<table border=\"1\" class=\"dataframe\">\n",
       "  <thead>\n",
       "    <tr style=\"text-align: right;\">\n",
       "      <th></th>\n",
       "      <th>ID</th>\n",
       "      <th>Age</th>\n",
       "      <th>Agency</th>\n",
       "      <th>Agency Type</th>\n",
       "      <th>Commision (in value)</th>\n",
       "      <th>Destination</th>\n",
       "      <th>Distribution Channel</th>\n",
       "      <th>Duration</th>\n",
       "      <th>Gender</th>\n",
       "      <th>Net Sales</th>\n",
       "      <th>Product Name</th>\n",
       "      <th>Claim</th>\n",
       "    </tr>\n",
       "  </thead>\n",
       "  <tbody>\n",
       "    <tr>\n",
       "      <th>0</th>\n",
       "      <td>45341</td>\n",
       "      <td>28</td>\n",
       "      <td>C2B</td>\n",
       "      <td>Airlines</td>\n",
       "      <td>28.13</td>\n",
       "      <td>SINGAPORE</td>\n",
       "      <td>Online</td>\n",
       "      <td>34</td>\n",
       "      <td>F</td>\n",
       "      <td>112.5</td>\n",
       "      <td>Silver Plan</td>\n",
       "      <td>1</td>\n",
       "    </tr>\n",
       "    <tr>\n",
       "      <th>1</th>\n",
       "      <td>12958</td>\n",
       "      <td>37</td>\n",
       "      <td>JZI</td>\n",
       "      <td>Airlines</td>\n",
       "      <td>12.95</td>\n",
       "      <td>PHILIPPINES</td>\n",
       "      <td>Online</td>\n",
       "      <td>53</td>\n",
       "      <td>F</td>\n",
       "      <td>37.0</td>\n",
       "      <td>Basic Plan</td>\n",
       "      <td>0</td>\n",
       "    </tr>\n",
       "    <tr>\n",
       "      <th>2</th>\n",
       "      <td>18233</td>\n",
       "      <td>27</td>\n",
       "      <td>EPX</td>\n",
       "      <td>Travel Agency</td>\n",
       "      <td>0.00</td>\n",
       "      <td>UNITED STATES</td>\n",
       "      <td>Online</td>\n",
       "      <td>28</td>\n",
       "      <td>NaN</td>\n",
       "      <td>13.0</td>\n",
       "      <td>Cancellation Plan</td>\n",
       "      <td>0</td>\n",
       "    </tr>\n",
       "    <tr>\n",
       "      <th>3</th>\n",
       "      <td>31742</td>\n",
       "      <td>36</td>\n",
       "      <td>EPX</td>\n",
       "      <td>Travel Agency</td>\n",
       "      <td>0.00</td>\n",
       "      <td>SAUDI ARABIA</td>\n",
       "      <td>Online</td>\n",
       "      <td>1</td>\n",
       "      <td>NaN</td>\n",
       "      <td>34.0</td>\n",
       "      <td>Cancellation Plan</td>\n",
       "      <td>0</td>\n",
       "    </tr>\n",
       "    <tr>\n",
       "      <th>4</th>\n",
       "      <td>14381</td>\n",
       "      <td>26</td>\n",
       "      <td>CWT</td>\n",
       "      <td>Travel Agency</td>\n",
       "      <td>23.76</td>\n",
       "      <td>THAILAND</td>\n",
       "      <td>Online</td>\n",
       "      <td>33</td>\n",
       "      <td>NaN</td>\n",
       "      <td>39.6</td>\n",
       "      <td>Rental Vehicle Excess Insurance</td>\n",
       "      <td>0</td>\n",
       "    </tr>\n",
       "    <tr>\n",
       "      <th>...</th>\n",
       "      <td>...</td>\n",
       "      <td>...</td>\n",
       "      <td>...</td>\n",
       "      <td>...</td>\n",
       "      <td>...</td>\n",
       "      <td>...</td>\n",
       "      <td>...</td>\n",
       "      <td>...</td>\n",
       "      <td>...</td>\n",
       "      <td>...</td>\n",
       "      <td>...</td>\n",
       "      <td>...</td>\n",
       "    </tr>\n",
       "    <tr>\n",
       "      <th>62283</th>\n",
       "      <td>36315</td>\n",
       "      <td>36</td>\n",
       "      <td>EPX</td>\n",
       "      <td>Travel Agency</td>\n",
       "      <td>0.00</td>\n",
       "      <td>HONG KONG</td>\n",
       "      <td>Online</td>\n",
       "      <td>17</td>\n",
       "      <td>NaN</td>\n",
       "      <td>28.0</td>\n",
       "      <td>2 way Comprehensive Plan</td>\n",
       "      <td>0</td>\n",
       "    </tr>\n",
       "    <tr>\n",
       "      <th>62284</th>\n",
       "      <td>2511</td>\n",
       "      <td>56</td>\n",
       "      <td>JZI</td>\n",
       "      <td>Airlines</td>\n",
       "      <td>9.10</td>\n",
       "      <td>AUSTRALIA</td>\n",
       "      <td>Online</td>\n",
       "      <td>9</td>\n",
       "      <td>F</td>\n",
       "      <td>26.0</td>\n",
       "      <td>Basic Plan</td>\n",
       "      <td>0</td>\n",
       "    </tr>\n",
       "    <tr>\n",
       "      <th>62285</th>\n",
       "      <td>16874</td>\n",
       "      <td>36</td>\n",
       "      <td>EPX</td>\n",
       "      <td>Travel Agency</td>\n",
       "      <td>0.00</td>\n",
       "      <td>ITALY</td>\n",
       "      <td>Online</td>\n",
       "      <td>216</td>\n",
       "      <td>NaN</td>\n",
       "      <td>20.0</td>\n",
       "      <td>2 way Comprehensive Plan</td>\n",
       "      <td>1</td>\n",
       "    </tr>\n",
       "    <tr>\n",
       "      <th>62286</th>\n",
       "      <td>14801</td>\n",
       "      <td>29</td>\n",
       "      <td>CWT</td>\n",
       "      <td>Travel Agency</td>\n",
       "      <td>11.88</td>\n",
       "      <td>AUSTRALIA</td>\n",
       "      <td>Online</td>\n",
       "      <td>37</td>\n",
       "      <td>NaN</td>\n",
       "      <td>19.8</td>\n",
       "      <td>Rental Vehicle Excess Insurance</td>\n",
       "      <td>1</td>\n",
       "    </tr>\n",
       "    <tr>\n",
       "      <th>62287</th>\n",
       "      <td>5550</td>\n",
       "      <td>44</td>\n",
       "      <td>EPX</td>\n",
       "      <td>Travel Agency</td>\n",
       "      <td>0.00</td>\n",
       "      <td>THAILAND</td>\n",
       "      <td>Online</td>\n",
       "      <td>70</td>\n",
       "      <td>NaN</td>\n",
       "      <td>20.0</td>\n",
       "      <td>Cancellation Plan</td>\n",
       "      <td>0</td>\n",
       "    </tr>\n",
       "  </tbody>\n",
       "</table>\n",
       "<p>62288 rows × 12 columns</p>\n",
       "</div>"
      ],
      "text/plain": [
       "          ID  Age Agency    Agency Type  Commision (in value)    Destination  \\\n",
       "0      45341   28    C2B       Airlines                 28.13      SINGAPORE   \n",
       "1      12958   37    JZI       Airlines                 12.95    PHILIPPINES   \n",
       "2      18233   27    EPX  Travel Agency                  0.00  UNITED STATES   \n",
       "3      31742   36    EPX  Travel Agency                  0.00   SAUDI ARABIA   \n",
       "4      14381   26    CWT  Travel Agency                 23.76       THAILAND   \n",
       "...      ...  ...    ...            ...                   ...            ...   \n",
       "62283  36315   36    EPX  Travel Agency                  0.00      HONG KONG   \n",
       "62284   2511   56    JZI       Airlines                  9.10      AUSTRALIA   \n",
       "62285  16874   36    EPX  Travel Agency                  0.00          ITALY   \n",
       "62286  14801   29    CWT  Travel Agency                 11.88      AUSTRALIA   \n",
       "62287   5550   44    EPX  Travel Agency                  0.00       THAILAND   \n",
       "\n",
       "      Distribution Channel  Duration Gender  Net Sales  \\\n",
       "0                   Online        34      F      112.5   \n",
       "1                   Online        53      F       37.0   \n",
       "2                   Online        28    NaN       13.0   \n",
       "3                   Online         1    NaN       34.0   \n",
       "4                   Online        33    NaN       39.6   \n",
       "...                    ...       ...    ...        ...   \n",
       "62283               Online        17    NaN       28.0   \n",
       "62284               Online         9      F       26.0   \n",
       "62285               Online       216    NaN       20.0   \n",
       "62286               Online        37    NaN       19.8   \n",
       "62287               Online        70    NaN       20.0   \n",
       "\n",
       "                          Product Name  Claim  \n",
       "0                          Silver Plan      1  \n",
       "1                           Basic Plan      0  \n",
       "2                    Cancellation Plan      0  \n",
       "3                    Cancellation Plan      0  \n",
       "4      Rental Vehicle Excess Insurance      0  \n",
       "...                                ...    ...  \n",
       "62283         2 way Comprehensive Plan      0  \n",
       "62284                       Basic Plan      0  \n",
       "62285         2 way Comprehensive Plan      1  \n",
       "62286  Rental Vehicle Excess Insurance      1  \n",
       "62287                Cancellation Plan      0  \n",
       "\n",
       "[62288 rows x 12 columns]"
      ]
     },
     "execution_count": 3,
     "metadata": {},
     "output_type": "execute_result"
    }
   ],
   "source": [
    "pd.set_option('display.max_columns', len(data.columns)) #To view all columns\n",
    "pd.set_option('display.max_rows', 100)\n",
    "data"
   ]
  },
  {
   "cell_type": "markdown",
   "id": "de708b3d",
   "metadata": {},
   "source": [
    "# Basic Data Hygiene Check."
   ]
  },
  {
   "cell_type": "code",
   "execution_count": 4,
   "id": "b49eace2",
   "metadata": {},
   "outputs": [
    {
     "data": {
      "text/plain": [
       "Claim\n",
       "0    0.8\n",
       "1    0.2\n",
       "dtype: float64"
      ]
     },
     "execution_count": 4,
     "metadata": {},
     "output_type": "execute_result"
    }
   ],
   "source": [
    "# Checking the distribution of the claims\n",
    "(data.groupby('Claim').size()/data.shape[0]).round(4)"
   ]
  },
  {
   "cell_type": "code",
   "execution_count": 5,
   "id": "5f27560d",
   "metadata": {},
   "outputs": [
    {
     "data": {
      "text/plain": [
       "Text(0.5, 1.0, 'Count of each Target Class')"
      ]
     },
     "execution_count": 5,
     "metadata": {},
     "output_type": "execute_result"
    },
    {
     "data": {
      "image/png": "[encoded data removed]",
      "text/plain": [
       "<Figure size 576x432 with 1 Axes>"
      ]
     },
     "metadata": {
      "needs_background": "light"
     },
     "output_type": "display_data"
    }
   ],
   "source": [
    "rcParams['figure.figsize'] = 8,6\n",
    "plt.bar(data['Claim'].unique(), data['Claim'].value_counts(), color = ['red', 'green'])\n",
    "plt.xticks([0, 1])\n",
    "plt.xlabel('Target Classes')\n",
    "plt.ylabel('Count')\n",
    "plt.title('Count of each Target Class')"
   ]
  },
  {
   "cell_type": "code",
   "execution_count": 6,
   "id": "30eb7e76",
   "metadata": {},
   "outputs": [
    {
     "data": {
      "text/plain": [
       "ID                          0\n",
       "Age                         0\n",
       "Agency                      0\n",
       "Agency Type                 0\n",
       "Commision (in value)        0\n",
       "Destination                 0\n",
       "Distribution Channel        0\n",
       "Duration                    0\n",
       "Gender                  39575\n",
       "Net Sales                   0\n",
       "Product Name                0\n",
       "Claim                       0\n",
       "dtype: int64"
      ]
     },
     "execution_count": 6,
     "metadata": {},
     "output_type": "execute_result"
    }
   ],
   "source": [
    "# checking for the null values.\n",
    "\n",
    "data.isnull().sum()"
   ]
  },
  {
   "cell_type": "code",
   "execution_count": 7,
   "id": "0c3ec9b8",
   "metadata": {},
   "outputs": [
    {
     "data": {
      "text/plain": [
       "63.54"
      ]
     },
     "execution_count": 7,
     "metadata": {},
     "output_type": "execute_result"
    }
   ],
   "source": [
    "# Checking the weightage of null values.\n",
    "\n",
    "(data['Gender'].isnull().sum()/data.shape[0]*100).round(2)"
   ]
  },
  {
   "cell_type": "code",
   "execution_count": 8,
   "id": "24e0d5a3",
   "metadata": {},
   "outputs": [
    {
     "data": {
      "text/plain": [
       "ID                      50756\n",
       "Age                        89\n",
       "Agency                     16\n",
       "Agency Type                 2\n",
       "Commision (in value)      940\n",
       "Destination               102\n",
       "Distribution Channel        2\n",
       "Duration                  443\n",
       "Gender                      2\n",
       "Net Sales                1037\n",
       "Product Name               25\n",
       "Claim                       2\n",
       "dtype: int64"
      ]
     },
     "execution_count": 8,
     "metadata": {},
     "output_type": "execute_result"
    }
   ],
   "source": [
    "# Check for unique Value in the DataFrame.\n",
    "\n",
    "data.nunique()"
   ]
  },
  {
   "cell_type": "markdown",
   "id": "f8adf2c2",
   "metadata": {},
   "source": [
    "From the above its clear that more then 60% of the data does not have Gender updated. And we also understand that there are no other features that will help us find out whether the individual is male or female. Thus we will drop this feature"
   ]
  },
  {
   "cell_type": "markdown",
   "id": "43a0dad9",
   "metadata": {},
   "source": [
    "# Pre-processing analysis:"
   ]
  },
  {
   "cell_type": "markdown",
   "id": "5fca039d",
   "metadata": {},
   "source": [
    "From the above we can say that Agency Type and Distribution Channel which has just 2 unique values and has dataype object we can use One Hot Encoding and convert them.\n",
    "\n",
    "We will be left with Destination, Agency and Product Name. We will deep dive into this after some analysis of the rest of the data"
   ]
  },
  {
   "cell_type": "code",
   "execution_count": 9,
   "id": "db0a1825",
   "metadata": {},
   "outputs": [
    {
     "data": {
      "text/html": [
       "<div>\n",
       "<style scoped>\n",
       "    .dataframe tbody tr th:only-of-type {\n",
       "        vertical-align: middle;\n",
       "    }\n",
       "\n",
       "    .dataframe tbody tr th {\n",
       "        vertical-align: top;\n",
       "    }\n",
       "\n",
       "    .dataframe thead th {\n",
       "        text-align: right;\n",
       "    }\n",
       "</style>\n",
       "<table border=\"1\" class=\"dataframe\">\n",
       "  <thead>\n",
       "    <tr style=\"text-align: right;\">\n",
       "      <th></th>\n",
       "      <th>ID</th>\n",
       "      <th>Age</th>\n",
       "      <th>Commision (in value)</th>\n",
       "      <th>Duration</th>\n",
       "      <th>Net Sales</th>\n",
       "      <th>Claim</th>\n",
       "    </tr>\n",
       "  </thead>\n",
       "  <tbody>\n",
       "    <tr>\n",
       "      <th>count</th>\n",
       "      <td>62288.000000</td>\n",
       "      <td>62288.000000</td>\n",
       "      <td>62288.000000</td>\n",
       "      <td>62288.000000</td>\n",
       "      <td>62288.000000</td>\n",
       "      <td>62288.000000</td>\n",
       "    </tr>\n",
       "    <tr>\n",
       "      <th>mean</th>\n",
       "      <td>32844.953458</td>\n",
       "      <td>39.666324</td>\n",
       "      <td>12.829703</td>\n",
       "      <td>60.958804</td>\n",
       "      <td>50.717064</td>\n",
       "      <td>0.200006</td>\n",
       "    </tr>\n",
       "    <tr>\n",
       "      <th>std</th>\n",
       "      <td>18065.417216</td>\n",
       "      <td>14.014652</td>\n",
       "      <td>23.498745</td>\n",
       "      <td>114.325330</td>\n",
       "      <td>63.166715</td>\n",
       "      <td>0.400008</td>\n",
       "    </tr>\n",
       "    <tr>\n",
       "      <th>min</th>\n",
       "      <td>0.000000</td>\n",
       "      <td>0.000000</td>\n",
       "      <td>0.000000</td>\n",
       "      <td>-2.000000</td>\n",
       "      <td>-389.000000</td>\n",
       "      <td>0.000000</td>\n",
       "    </tr>\n",
       "    <tr>\n",
       "      <th>25%</th>\n",
       "      <td>17579.000000</td>\n",
       "      <td>33.000000</td>\n",
       "      <td>0.000000</td>\n",
       "      <td>10.000000</td>\n",
       "      <td>20.000000</td>\n",
       "      <td>0.000000</td>\n",
       "    </tr>\n",
       "    <tr>\n",
       "      <th>50%</th>\n",
       "      <td>33446.500000</td>\n",
       "      <td>36.000000</td>\n",
       "      <td>1.880000</td>\n",
       "      <td>25.000000</td>\n",
       "      <td>29.700000</td>\n",
       "      <td>0.000000</td>\n",
       "    </tr>\n",
       "    <tr>\n",
       "      <th>75%</th>\n",
       "      <td>48532.250000</td>\n",
       "      <td>43.000000</td>\n",
       "      <td>14.440000</td>\n",
       "      <td>59.000000</td>\n",
       "      <td>58.000000</td>\n",
       "      <td>0.000000</td>\n",
       "    </tr>\n",
       "    <tr>\n",
       "      <th>max</th>\n",
       "      <td>63323.000000</td>\n",
       "      <td>118.000000</td>\n",
       "      <td>262.760000</td>\n",
       "      <td>4881.000000</td>\n",
       "      <td>682.000000</td>\n",
       "      <td>1.000000</td>\n",
       "    </tr>\n",
       "  </tbody>\n",
       "</table>\n",
       "</div>"
      ],
      "text/plain": [
       "                 ID           Age  Commision (in value)      Duration  \\\n",
       "count  62288.000000  62288.000000          62288.000000  62288.000000   \n",
       "mean   32844.953458     39.666324             12.829703     60.958804   \n",
       "std    18065.417216     14.014652             23.498745    114.325330   \n",
       "min        0.000000      0.000000              0.000000     -2.000000   \n",
       "25%    17579.000000     33.000000              0.000000     10.000000   \n",
       "50%    33446.500000     36.000000              1.880000     25.000000   \n",
       "75%    48532.250000     43.000000             14.440000     59.000000   \n",
       "max    63323.000000    118.000000            262.760000   4881.000000   \n",
       "\n",
       "          Net Sales         Claim  \n",
       "count  62288.000000  62288.000000  \n",
       "mean      50.717064      0.200006  \n",
       "std       63.166715      0.400008  \n",
       "min     -389.000000      0.000000  \n",
       "25%       20.000000      0.000000  \n",
       "50%       29.700000      0.000000  \n",
       "75%       58.000000      0.000000  \n",
       "max      682.000000      1.000000  "
      ]
     },
     "execution_count": 9,
     "metadata": {},
     "output_type": "execute_result"
    }
   ],
   "source": [
    "# Check for the maximum and minimum values to see if there are any invalid.\n",
    "\n",
    "data.describe()"
   ]
  },
  {
   "cell_type": "markdown",
   "id": "bbb381f9",
   "metadata": {},
   "source": [
    "\n",
    "\n",
    "    Age:\n",
    "        minimum: 0 which is possible.\n",
    "        maximum: 118, Way too old to travel.\n",
    "\n",
    "Lets check what insurance companies say.\n",
    "\n",
    "Insurance Companies do not give insurance over an age of 85. However there are few who provide insurance upto age of 99. So giving benefit of doubt to our Safe Travel Insurance travel company we will assume that any individual upto age 99 is valid anything above that needs to be treated.\n",
    "\n",
    "    Commission: The data for commission looks valid.\n",
    "\n",
    "    Duration:\n",
    "        minimum: -2\n",
    "        maximum: 4881\n",
    "\n",
    "so now lets see what insurance companies say.\n",
    "\n",
    "- Duration can never be -ve. so this deffinately has to be computed.\n",
    "- Duration of 4881. \n",
    "\n",
    "Insurance companies do not give insurance over 120 days in India. Lets assume that there is an Annual plan in place then we can say that the maximum tenure of a insurance plan would be 365 days. Also given a fact that one can book a ticket 1 year in advance so we will say that the maximum duration of the insurance cannot be more than\n",
    "\n",
    "    731 days(365 + 366 days considering if it is a leap year)\n",
    "\n",
    "Incase the values are less then 0.05 we will go ahead and drop the data points else we will have to treat them.\n",
    "\n",
    "    Net Sales: Minimum has negative values. To check whether sales can be negative or not lets understand how Net Sales is computed.\n",
    "\n",
    "    Net Sales = The Value for which the insurance is sold - Any expenses incurred/Claim Amount paid\n",
    "        So it is possible that the Sales is showing negative if the Claim amount is paid, it can also be negative even if the claim ammount is not paid incases where the insurance was sent for claim and got rejected. Now the expenses incurred for doing investigation of that claim would be more than the actual policy amount paid.\n",
    "\n"
   ]
  },
  {
   "cell_type": "code",
   "execution_count": 10,
   "id": "533d09a4",
   "metadata": {},
   "outputs": [
    {
     "data": {
      "text/plain": [
       "0.006421782686873876"
      ]
     },
     "execution_count": 10,
     "metadata": {},
     "output_type": "execute_result"
    }
   ],
   "source": [
    "# Calculate % of negative Duration Travels\n",
    "\n",
    "(data['Duration'] < 0).sum()/data.shape[0]*100"
   ]
  },
  {
   "cell_type": "code",
   "execution_count": 11,
   "id": "105600e5",
   "metadata": {},
   "outputs": [
    {
     "data": {
      "text/plain": [
       "0.020870793732340097"
      ]
     },
     "execution_count": 11,
     "metadata": {},
     "output_type": "execute_result"
    }
   ],
   "source": [
    "(data['Duration'] > 731).sum()/data.shape[0]*100"
   ]
  },
  {
   "cell_type": "code",
   "execution_count": 12,
   "id": "a93b2ecd",
   "metadata": {},
   "outputs": [
    {
     "data": {
      "text/plain": [
       "1.4497174415617775"
      ]
     },
     "execution_count": 12,
     "metadata": {},
     "output_type": "execute_result"
    }
   ],
   "source": [
    "# Now check the weightage of Age\n",
    "(data['Age'] > 99).sum()/data.shape[0]*100"
   ]
  },
  {
   "cell_type": "markdown",
   "id": "6dbf1d78",
   "metadata": {},
   "source": [
    "\n",
    "\n",
    "Since the weightage is more than 0.05 we will not be deleting these data, we will instead compute age above 118 as 99 we will not be computing this with median or mean since that would manipluate the data. Thus giving the benefit of doubt to the data we will make it 99\n"
   ]
  },
  {
   "cell_type": "code",
   "execution_count": 13,
   "id": "db569787",
   "metadata": {},
   "outputs": [],
   "source": [
    "# define a function to make age groups as children, adults and senior\n",
    "\n",
    "def age_convert(age):\n",
    "    result = ''\n",
    "    if(age <= 21):\n",
    "        result = 'Child'\n",
    "    elif(age <= 50):\n",
    "        result = 'Adult'\n",
    "    else:\n",
    "        result = 'Senior'\n",
    "    return result"
   ]
  },
  {
   "cell_type": "code",
   "execution_count": 14,
   "id": "2edfa09e",
   "metadata": {},
   "outputs": [],
   "source": [
    "# Write a function for data preprocessing\n",
    "\n",
    "def data_pre_processing(df):\n",
    "    # Add a new column in the Database as Age Group\n",
    "\n",
    "    df['Age Group'] = df['Age'].map(lambda x: age_convert(x))\n",
    "\n",
    "    # Dropping Feature Gender\n",
    "    df.drop('Gender',axis =1, inplace=True)\n",
    "    \n",
    "    # Since the minimum duration that any travel can have is 1 day thus we impute it by the column median.\n",
    "    df['Duration'][df['Duration'] < 0] = df['Duration'].median()\n",
    "\n",
    "    # As we observed duration of any travel cannot be more than 731 we will impute it as 731.\n",
    "    df['Duration'][df['Duration'] > 731] = 731\n",
    "    \n",
    "    # replacing the values that is greater than 99 with the mean of Senior Age\n",
    "    df['Age'][df['Age'] > 99] = df[df['Age Group'] == 'Senior']['Age'].mean()"
   ]
  },
  {
   "cell_type": "code",
   "execution_count": 15,
   "id": "2d9eb92c",
   "metadata": {},
   "outputs": [
    {
     "name": "stderr",
     "output_type": "stream",
     "text": [
      "<ipython-input-14-971bd1b584a6>:12: SettingWithCopyWarning: \n",
      "A value is trying to be set on a copy of a slice from a DataFrame\n",
      "\n",
      "See the caveats in the documentation: https://pandas.pydata.org/pandas-docs/stable/user_guide/indexing.html#returning-a-view-versus-a-copy\n",
      "  df['Duration'][df['Duration'] < 0] = df['Duration'].median()\n",
      "<ipython-input-14-971bd1b584a6>:15: SettingWithCopyWarning: \n",
      "A value is trying to be set on a copy of a slice from a DataFrame\n",
      "\n",
      "See the caveats in the documentation: https://pandas.pydata.org/pandas-docs/stable/user_guide/indexing.html#returning-a-view-versus-a-copy\n",
      "  df['Duration'][df['Duration'] > 731] = 731\n",
      "<ipython-input-14-971bd1b584a6>:18: SettingWithCopyWarning: \n",
      "A value is trying to be set on a copy of a slice from a DataFrame\n",
      "\n",
      "See the caveats in the documentation: https://pandas.pydata.org/pandas-docs/stable/user_guide/indexing.html#returning-a-view-versus-a-copy\n",
      "  df['Age'][df['Age'] > 99] = df[df['Age Group'] == 'Senior']['Age'].mean()\n"
     ]
    }
   ],
   "source": [
    "data_pre_processing(data)"
   ]
  },
  {
   "cell_type": "code",
   "execution_count": 16,
   "id": "a1a8b9d8",
   "metadata": {},
   "outputs": [
    {
     "data": {
      "text/html": [
       "<div>\n",
       "<style scoped>\n",
       "    .dataframe tbody tr th:only-of-type {\n",
       "        vertical-align: middle;\n",
       "    }\n",
       "\n",
       "    .dataframe tbody tr th {\n",
       "        vertical-align: top;\n",
       "    }\n",
       "\n",
       "    .dataframe thead th {\n",
       "        text-align: right;\n",
       "    }\n",
       "</style>\n",
       "<table border=\"1\" class=\"dataframe\">\n",
       "  <thead>\n",
       "    <tr style=\"text-align: right;\">\n",
       "      <th></th>\n",
       "      <th>ID</th>\n",
       "      <th>Age</th>\n",
       "      <th>Commision (in value)</th>\n",
       "      <th>Duration</th>\n",
       "      <th>Net Sales</th>\n",
       "      <th>Claim</th>\n",
       "    </tr>\n",
       "  </thead>\n",
       "  <tbody>\n",
       "    <tr>\n",
       "      <th>count</th>\n",
       "      <td>62288.000000</td>\n",
       "      <td>62288.000000</td>\n",
       "      <td>62288.000000</td>\n",
       "      <td>62288.000000</td>\n",
       "      <td>62288.000000</td>\n",
       "      <td>62288.000000</td>\n",
       "    </tr>\n",
       "    <tr>\n",
       "      <th>mean</th>\n",
       "      <td>32844.953458</td>\n",
       "      <td>38.904537</td>\n",
       "      <td>12.829703</td>\n",
       "      <td>60.182748</td>\n",
       "      <td>50.717064</td>\n",
       "      <td>0.200006</td>\n",
       "    </tr>\n",
       "    <tr>\n",
       "      <th>std</th>\n",
       "      <td>18065.417216</td>\n",
       "      <td>10.794050</td>\n",
       "      <td>23.498745</td>\n",
       "      <td>94.270276</td>\n",
       "      <td>63.166715</td>\n",
       "      <td>0.400008</td>\n",
       "    </tr>\n",
       "    <tr>\n",
       "      <th>min</th>\n",
       "      <td>0.000000</td>\n",
       "      <td>0.000000</td>\n",
       "      <td>0.000000</td>\n",
       "      <td>0.000000</td>\n",
       "      <td>-389.000000</td>\n",
       "      <td>0.000000</td>\n",
       "    </tr>\n",
       "    <tr>\n",
       "      <th>25%</th>\n",
       "      <td>17579.000000</td>\n",
       "      <td>33.000000</td>\n",
       "      <td>0.000000</td>\n",
       "      <td>10.000000</td>\n",
       "      <td>20.000000</td>\n",
       "      <td>0.000000</td>\n",
       "    </tr>\n",
       "    <tr>\n",
       "      <th>50%</th>\n",
       "      <td>33446.500000</td>\n",
       "      <td>36.000000</td>\n",
       "      <td>1.880000</td>\n",
       "      <td>25.000000</td>\n",
       "      <td>29.700000</td>\n",
       "      <td>0.000000</td>\n",
       "    </tr>\n",
       "    <tr>\n",
       "      <th>75%</th>\n",
       "      <td>48532.250000</td>\n",
       "      <td>43.000000</td>\n",
       "      <td>14.440000</td>\n",
       "      <td>59.000000</td>\n",
       "      <td>58.000000</td>\n",
       "      <td>0.000000</td>\n",
       "    </tr>\n",
       "    <tr>\n",
       "      <th>max</th>\n",
       "      <td>63323.000000</td>\n",
       "      <td>88.000000</td>\n",
       "      <td>262.760000</td>\n",
       "      <td>731.000000</td>\n",
       "      <td>682.000000</td>\n",
       "      <td>1.000000</td>\n",
       "    </tr>\n",
       "  </tbody>\n",
       "</table>\n",
       "</div>"
      ],
      "text/plain": [
       "                 ID           Age  Commision (in value)      Duration  \\\n",
       "count  62288.000000  62288.000000          62288.000000  62288.000000   \n",
       "mean   32844.953458     38.904537             12.829703     60.182748   \n",
       "std    18065.417216     10.794050             23.498745     94.270276   \n",
       "min        0.000000      0.000000              0.000000      0.000000   \n",
       "25%    17579.000000     33.000000              0.000000     10.000000   \n",
       "50%    33446.500000     36.000000              1.880000     25.000000   \n",
       "75%    48532.250000     43.000000             14.440000     59.000000   \n",
       "max    63323.000000     88.000000            262.760000    731.000000   \n",
       "\n",
       "          Net Sales         Claim  \n",
       "count  62288.000000  62288.000000  \n",
       "mean      50.717064      0.200006  \n",
       "std       63.166715      0.400008  \n",
       "min     -389.000000      0.000000  \n",
       "25%       20.000000      0.000000  \n",
       "50%       29.700000      0.000000  \n",
       "75%       58.000000      0.000000  \n",
       "max      682.000000      1.000000  "
      ]
     },
     "execution_count": 16,
     "metadata": {},
     "output_type": "execute_result"
    }
   ],
   "source": [
    "data.describe()"
   ]
  },
  {
   "cell_type": "markdown",
   "id": "03b90506",
   "metadata": {},
   "source": [
    "# EXPLORATORY DATA ANALYSIS."
   ]
  },
  {
   "cell_type": "code",
   "execution_count": 17,
   "id": "4e2e80ef",
   "metadata": {},
   "outputs": [],
   "source": [
    "# Creating a dataframe dropping the features with datatype Object\n",
    "\n",
    "travel_plot = data.drop(['ID','Agency','Agency Type','Destination','Distribution Channel','Product Name','Claim'], axis = 1)"
   ]
  },
  {
   "cell_type": "code",
   "execution_count": 18,
   "id": "efe5a541",
   "metadata": {},
   "outputs": [
    {
     "data": {
      "image/png": "[encoded data removed]",
      "text/plain": [
       "<Figure size 1440x1440 with 8 Axes>"
      ]
     },
     "metadata": {
      "needs_background": "light"
     },
     "output_type": "display_data"
    }
   ],
   "source": [
    "# box and whisker plots\n",
    "\n",
    "travel_plot.plot(kind='box', subplots=True, layout=(2,4), sharex=False, sharey=False, figsize=(20,20),color='blue')\n",
    "plt.show()"
   ]
  },
  {
   "cell_type": "code",
   "execution_count": 19,
   "id": "671d96f0",
   "metadata": {},
   "outputs": [
    {
     "data": {
      "image/png": "[encoded data removed]",
      "text/plain": [
       "<Figure size 1440x360 with 4 Axes>"
      ]
     },
     "metadata": {
      "needs_background": "light"
     },
     "output_type": "display_data"
    }
   ],
   "source": [
    "travel_plot.hist(grid=False,sharex=False,sharey=False,figsize=(20,5),layout=(1,4))\n",
    "plt.show()"
   ]
  },
  {
   "cell_type": "markdown",
   "id": "2ebe4e83",
   "metadata": {},
   "source": [
    "\n",
    "\n",
    "We would not be correcting the skewness as the data is valid and whenever in the future if we are getting some 5 to 10 data we wont be able to find skeness there. Thus we will leave it as it is.\n"
   ]
  },
  {
   "cell_type": "markdown",
   "id": "1152987e",
   "metadata": {},
   "source": [
    "## Agencies with maximum claims."
   ]
  },
  {
   "cell_type": "code",
   "execution_count": 20,
   "id": "bb41d253",
   "metadata": {},
   "outputs": [
    {
     "data": {
      "text/html": [
       "<div>\n",
       "<style scoped>\n",
       "    .dataframe tbody tr th:only-of-type {\n",
       "        vertical-align: middle;\n",
       "    }\n",
       "\n",
       "    .dataframe tbody tr th {\n",
       "        vertical-align: top;\n",
       "    }\n",
       "\n",
       "    .dataframe thead th {\n",
       "        text-align: right;\n",
       "    }\n",
       "</style>\n",
       "<table border=\"1\" class=\"dataframe\">\n",
       "  <thead>\n",
       "    <tr style=\"text-align: right;\">\n",
       "      <th></th>\n",
       "      <th>Agency</th>\n",
       "      <th>Claim</th>\n",
       "    </tr>\n",
       "  </thead>\n",
       "  <tbody>\n",
       "    <tr>\n",
       "      <th>2</th>\n",
       "      <td>C2B</td>\n",
       "      <td>0.544827</td>\n",
       "    </tr>\n",
       "    <tr>\n",
       "      <th>11</th>\n",
       "      <td>LWC</td>\n",
       "      <td>0.467347</td>\n",
       "    </tr>\n",
       "    <tr>\n",
       "      <th>15</th>\n",
       "      <td>TTW</td>\n",
       "      <td>0.376923</td>\n",
       "    </tr>\n",
       "    <tr>\n",
       "      <th>10</th>\n",
       "      <td>KML</td>\n",
       "      <td>0.301124</td>\n",
       "    </tr>\n",
       "    <tr>\n",
       "      <th>4</th>\n",
       "      <td>CCR</td>\n",
       "      <td>0.222749</td>\n",
       "    </tr>\n",
       "    <tr>\n",
       "      <th>5</th>\n",
       "      <td>CSR</td>\n",
       "      <td>0.173333</td>\n",
       "    </tr>\n",
       "    <tr>\n",
       "      <th>6</th>\n",
       "      <td>CWT</td>\n",
       "      <td>0.145802</td>\n",
       "    </tr>\n",
       "    <tr>\n",
       "      <th>3</th>\n",
       "      <td>CBH</td>\n",
       "      <td>0.141414</td>\n",
       "    </tr>\n",
       "    <tr>\n",
       "      <th>13</th>\n",
       "      <td>SSI</td>\n",
       "      <td>0.104813</td>\n",
       "    </tr>\n",
       "    <tr>\n",
       "      <th>7</th>\n",
       "      <td>EPX</td>\n",
       "      <td>0.084498</td>\n",
       "    </tr>\n",
       "  </tbody>\n",
       "</table>\n",
       "</div>"
      ],
      "text/plain": [
       "   Agency     Claim\n",
       "2     C2B  0.544827\n",
       "11    LWC  0.467347\n",
       "15    TTW  0.376923\n",
       "10    KML  0.301124\n",
       "4     CCR  0.222749\n",
       "5     CSR  0.173333\n",
       "6     CWT  0.145802\n",
       "3     CBH  0.141414\n",
       "13    SSI  0.104813\n",
       "7     EPX  0.084498"
      ]
     },
     "execution_count": 20,
     "metadata": {},
     "output_type": "execute_result"
    }
   ],
   "source": [
    "# Finding the Agencies with the Maximum Claims\n",
    "\n",
    "Claim_mean = (data.groupby('Agency', as_index=False)['Claim'].mean()).nlargest(10,'Claim')\n",
    "Claim_mean"
   ]
  },
  {
   "cell_type": "code",
   "execution_count": 21,
   "id": "ca1a1ee8",
   "metadata": {},
   "outputs": [
    {
     "data": {
      "image/png": "[encoded data removed]",
      "text/plain": [
       "<Figure size 576x432 with 1 Axes>"
      ]
     },
     "metadata": {
      "needs_background": "light"
     },
     "output_type": "display_data"
    }
   ],
   "source": [
    "ax = Claim_mean.plot.bar(x='Agency', y='Claim', rot=0)"
   ]
  },
  {
   "cell_type": "markdown",
   "id": "09899583",
   "metadata": {},
   "source": [
    "## Agencies with the most number of net sales."
   ]
  },
  {
   "cell_type": "code",
   "execution_count": 22,
   "id": "5543aa96",
   "metadata": {},
   "outputs": [
    {
     "data": {
      "text/html": [
       "<div>\n",
       "<style scoped>\n",
       "    .dataframe tbody tr th:only-of-type {\n",
       "        vertical-align: middle;\n",
       "    }\n",
       "\n",
       "    .dataframe tbody tr th {\n",
       "        vertical-align: top;\n",
       "    }\n",
       "\n",
       "    .dataframe thead th {\n",
       "        text-align: right;\n",
       "    }\n",
       "</style>\n",
       "<table border=\"1\" class=\"dataframe\">\n",
       "  <thead>\n",
       "    <tr style=\"text-align: right;\">\n",
       "      <th></th>\n",
       "      <th>Agency</th>\n",
       "      <th>Net Sales</th>\n",
       "    </tr>\n",
       "  </thead>\n",
       "  <tbody>\n",
       "    <tr>\n",
       "      <th>11</th>\n",
       "      <td>LWC</td>\n",
       "      <td>126.991327</td>\n",
       "    </tr>\n",
       "    <tr>\n",
       "      <th>2</th>\n",
       "      <td>C2B</td>\n",
       "      <td>98.088149</td>\n",
       "    </tr>\n",
       "    <tr>\n",
       "      <th>15</th>\n",
       "      <td>TTW</td>\n",
       "      <td>93.300000</td>\n",
       "    </tr>\n",
       "    <tr>\n",
       "      <th>0</th>\n",
       "      <td>ADM</td>\n",
       "      <td>56.184615</td>\n",
       "    </tr>\n",
       "    <tr>\n",
       "      <th>8</th>\n",
       "      <td>JWT</td>\n",
       "      <td>54.912363</td>\n",
       "    </tr>\n",
       "    <tr>\n",
       "      <th>10</th>\n",
       "      <td>KML</td>\n",
       "      <td>52.424719</td>\n",
       "    </tr>\n",
       "    <tr>\n",
       "      <th>6</th>\n",
       "      <td>CWT</td>\n",
       "      <td>47.191742</td>\n",
       "    </tr>\n",
       "    <tr>\n",
       "      <th>7</th>\n",
       "      <td>EPX</td>\n",
       "      <td>33.668716</td>\n",
       "    </tr>\n",
       "    <tr>\n",
       "      <th>9</th>\n",
       "      <td>JZI</td>\n",
       "      <td>32.747784</td>\n",
       "    </tr>\n",
       "    <tr>\n",
       "      <th>5</th>\n",
       "      <td>CSR</td>\n",
       "      <td>31.706667</td>\n",
       "    </tr>\n",
       "  </tbody>\n",
       "</table>\n",
       "</div>"
      ],
      "text/plain": [
       "   Agency   Net Sales\n",
       "11    LWC  126.991327\n",
       "2     C2B   98.088149\n",
       "15    TTW   93.300000\n",
       "0     ADM   56.184615\n",
       "8     JWT   54.912363\n",
       "10    KML   52.424719\n",
       "6     CWT   47.191742\n",
       "7     EPX   33.668716\n",
       "9     JZI   32.747784\n",
       "5     CSR   31.706667"
      ]
     },
     "execution_count": 22,
     "metadata": {},
     "output_type": "execute_result"
    }
   ],
   "source": [
    "netsales_mean = (data.groupby('Agency', as_index=False)['Net Sales'].mean()).nlargest(10,'Net Sales')\n",
    "netsales_mean"
   ]
  },
  {
   "cell_type": "code",
   "execution_count": 23,
   "id": "f307459c",
   "metadata": {},
   "outputs": [
    {
     "data": {
      "image/png": "[encoded data removed]",
      "text/plain": [
       "<Figure size 576x432 with 1 Axes>"
      ]
     },
     "metadata": {
      "needs_background": "light"
     },
     "output_type": "display_data"
    }
   ],
   "source": [
    "ax1 = netsales_mean.plot.bar(x='Agency', y='Net Sales', rot=0)"
   ]
  },
  {
   "cell_type": "code",
   "execution_count": 24,
   "id": "08837290",
   "metadata": {},
   "outputs": [
    {
     "data": {
      "text/html": [
       "<div>\n",
       "<style scoped>\n",
       "    .dataframe tbody tr th:only-of-type {\n",
       "        vertical-align: middle;\n",
       "    }\n",
       "\n",
       "    .dataframe tbody tr th {\n",
       "        vertical-align: top;\n",
       "    }\n",
       "\n",
       "    .dataframe thead tr th {\n",
       "        text-align: left;\n",
       "    }\n",
       "\n",
       "    .dataframe thead tr:last-of-type th {\n",
       "        text-align: right;\n",
       "    }\n",
       "</style>\n",
       "<table border=\"1\" class=\"dataframe\">\n",
       "  <thead>\n",
       "    <tr>\n",
       "      <th></th>\n",
       "      <th colspan=\"2\" halign=\"left\">Agency</th>\n",
       "    </tr>\n",
       "    <tr>\n",
       "      <th>Claim</th>\n",
       "      <th>0</th>\n",
       "      <th>1</th>\n",
       "    </tr>\n",
       "    <tr>\n",
       "      <th>Agency Type</th>\n",
       "      <th></th>\n",
       "      <th></th>\n",
       "    </tr>\n",
       "  </thead>\n",
       "  <tbody>\n",
       "    <tr>\n",
       "      <th>Airlines</th>\n",
       "      <td>13481</td>\n",
       "      <td>7991</td>\n",
       "    </tr>\n",
       "    <tr>\n",
       "      <th>Travel Agency</th>\n",
       "      <td>36349</td>\n",
       "      <td>4467</td>\n",
       "    </tr>\n",
       "  </tbody>\n",
       "</table>\n",
       "</div>"
      ],
      "text/plain": [
       "              Agency      \n",
       "Claim              0     1\n",
       "Agency Type               \n",
       "Airlines       13481  7991\n",
       "Travel Agency  36349  4467"
      ]
     },
     "execution_count": 24,
     "metadata": {},
     "output_type": "execute_result"
    },
    {
     "data": {
      "image/png": "[encoded data removed]",
      "text/plain": [
       "<Figure size 403.2x288 with 2 Axes>"
      ]
     },
     "metadata": {
      "needs_background": "light"
     },
     "output_type": "display_data"
    }
   ],
   "source": [
    "plot2 = sns.catplot(x=\"Agency Type\", col=\"Claim\",data=data, kind=\"count\",height=4, aspect=.7)\n",
    "data.pivot_table(index=['Agency Type'],columns=['Claim'], values=['Agency'], aggfunc='count')"
   ]
  },
  {
   "cell_type": "code",
   "execution_count": 25,
   "id": "3fed1cd2",
   "metadata": {},
   "outputs": [
    {
     "data": {
      "text/html": [
       "<div>\n",
       "<style scoped>\n",
       "    .dataframe tbody tr th:only-of-type {\n",
       "        vertical-align: middle;\n",
       "    }\n",
       "\n",
       "    .dataframe tbody tr th {\n",
       "        vertical-align: top;\n",
       "    }\n",
       "\n",
       "    .dataframe thead th {\n",
       "        text-align: right;\n",
       "    }\n",
       "</style>\n",
       "<table border=\"1\" class=\"dataframe\">\n",
       "  <thead>\n",
       "    <tr style=\"text-align: right;\">\n",
       "      <th></th>\n",
       "      <th>Net Sales</th>\n",
       "    </tr>\n",
       "    <tr>\n",
       "      <th>Product Name</th>\n",
       "      <th></th>\n",
       "    </tr>\n",
       "  </thead>\n",
       "  <tbody>\n",
       "    <tr>\n",
       "      <th>1 way Comprehensive Plan</th>\n",
       "      <td>27.901674</td>\n",
       "    </tr>\n",
       "    <tr>\n",
       "      <th>2 way Comprehensive Plan</th>\n",
       "      <td>44.147544</td>\n",
       "    </tr>\n",
       "    <tr>\n",
       "      <th>24 Protect</th>\n",
       "      <td>20.976425</td>\n",
       "    </tr>\n",
       "    <tr>\n",
       "      <th>Annual Gold Plan</th>\n",
       "      <td>343.186493</td>\n",
       "    </tr>\n",
       "    <tr>\n",
       "      <th>Annual Silver Plan</th>\n",
       "      <td>229.306389</td>\n",
       "    </tr>\n",
       "    <tr>\n",
       "      <th>Annual Travel Protect Gold</th>\n",
       "      <td>251.299495</td>\n",
       "    </tr>\n",
       "    <tr>\n",
       "      <th>Annual Travel Protect Platinum</th>\n",
       "      <td>328.202632</td>\n",
       "    </tr>\n",
       "    <tr>\n",
       "      <th>Annual Travel Protect Silver</th>\n",
       "      <td>206.034766</td>\n",
       "    </tr>\n",
       "    <tr>\n",
       "      <th>Basic Plan</th>\n",
       "      <td>26.449732</td>\n",
       "    </tr>\n",
       "    <tr>\n",
       "      <th>Bronze Plan</th>\n",
       "      <td>36.176003</td>\n",
       "    </tr>\n",
       "    <tr>\n",
       "      <th>Cancellation Plan</th>\n",
       "      <td>26.359906</td>\n",
       "    </tr>\n",
       "    <tr>\n",
       "      <th>Child Comprehensive Plan</th>\n",
       "      <td>74.000000</td>\n",
       "    </tr>\n",
       "    <tr>\n",
       "      <th>Comprehensive Plan</th>\n",
       "      <td>28.566038</td>\n",
       "    </tr>\n",
       "    <tr>\n",
       "      <th>Gold Plan</th>\n",
       "      <td>80.963548</td>\n",
       "    </tr>\n",
       "    <tr>\n",
       "      <th>Individual Comprehensive Plan</th>\n",
       "      <td>97.000000</td>\n",
       "    </tr>\n",
       "    <tr>\n",
       "      <th>Premier Plan</th>\n",
       "      <td>60.668293</td>\n",
       "    </tr>\n",
       "    <tr>\n",
       "      <th>Rental Vehicle Excess Insurance</th>\n",
       "      <td>47.191742</td>\n",
       "    </tr>\n",
       "    <tr>\n",
       "      <th>Silver Plan</th>\n",
       "      <td>58.928950</td>\n",
       "    </tr>\n",
       "    <tr>\n",
       "      <th>Single Trip Travel Protect Gold</th>\n",
       "      <td>42.347143</td>\n",
       "    </tr>\n",
       "    <tr>\n",
       "      <th>Single Trip Travel Protect Platinum</th>\n",
       "      <td>47.043277</td>\n",
       "    </tr>\n",
       "    <tr>\n",
       "      <th>Single Trip Travel Protect Silver</th>\n",
       "      <td>33.089385</td>\n",
       "    </tr>\n",
       "    <tr>\n",
       "      <th>Spouse or Parents Comprehensive Plan</th>\n",
       "      <td>86.000000</td>\n",
       "    </tr>\n",
       "    <tr>\n",
       "      <th>Ticket Protector</th>\n",
       "      <td>6.642278</td>\n",
       "    </tr>\n",
       "    <tr>\n",
       "      <th>Travel Cruise Protect</th>\n",
       "      <td>29.386364</td>\n",
       "    </tr>\n",
       "    <tr>\n",
       "      <th>Value Plan</th>\n",
       "      <td>49.622176</td>\n",
       "    </tr>\n",
       "  </tbody>\n",
       "</table>\n",
       "</div>"
      ],
      "text/plain": [
       "                                       Net Sales\n",
       "Product Name                                    \n",
       "1 way Comprehensive Plan               27.901674\n",
       "2 way Comprehensive Plan               44.147544\n",
       "24 Protect                             20.976425\n",
       "Annual Gold Plan                      343.186493\n",
       "Annual Silver Plan                    229.306389\n",
       "Annual Travel Protect Gold            251.299495\n",
       "Annual Travel Protect Platinum        328.202632\n",
       "Annual Travel Protect Silver          206.034766\n",
       "Basic Plan                             26.449732\n",
       "Bronze Plan                            36.176003\n",
       "Cancellation Plan                      26.359906\n",
       "Child Comprehensive Plan               74.000000\n",
       "Comprehensive Plan                     28.566038\n",
       "Gold Plan                              80.963548\n",
       "Individual Comprehensive Plan          97.000000\n",
       "Premier Plan                           60.668293\n",
       "Rental Vehicle Excess Insurance        47.191742\n",
       "Silver Plan                            58.928950\n",
       "Single Trip Travel Protect Gold        42.347143\n",
       "Single Trip Travel Protect Platinum    47.043277\n",
       "Single Trip Travel Protect Silver      33.089385\n",
       "Spouse or Parents Comprehensive Plan   86.000000\n",
       "Ticket Protector                        6.642278\n",
       "Travel Cruise Protect                  29.386364\n",
       "Value Plan                             49.622176"
      ]
     },
     "execution_count": 25,
     "metadata": {},
     "output_type": "execute_result"
    }
   ],
   "source": [
    "\n",
    "\n",
    "data.pivot_table(index = ['Product Name'], values = ['Net Sales'], aggfunc = 'mean')\n",
    "\n"
   ]
  },
  {
   "cell_type": "code",
   "execution_count": 26,
   "id": "d066c289",
   "metadata": {},
   "outputs": [
    {
     "data": {
      "text/html": [
       "<div>\n",
       "<style scoped>\n",
       "    .dataframe tbody tr th:only-of-type {\n",
       "        vertical-align: middle;\n",
       "    }\n",
       "\n",
       "    .dataframe tbody tr th {\n",
       "        vertical-align: top;\n",
       "    }\n",
       "\n",
       "    .dataframe thead th {\n",
       "        text-align: right;\n",
       "    }\n",
       "</style>\n",
       "<table border=\"1\" class=\"dataframe\">\n",
       "  <thead>\n",
       "    <tr style=\"text-align: right;\">\n",
       "      <th></th>\n",
       "      <th>Net Sales</th>\n",
       "    </tr>\n",
       "    <tr>\n",
       "      <th>Age Group</th>\n",
       "      <th></th>\n",
       "    </tr>\n",
       "  </thead>\n",
       "  <tbody>\n",
       "    <tr>\n",
       "      <th>Adult</th>\n",
       "      <td>52582</td>\n",
       "    </tr>\n",
       "    <tr>\n",
       "      <th>Child</th>\n",
       "      <td>828</td>\n",
       "    </tr>\n",
       "    <tr>\n",
       "      <th>Senior</th>\n",
       "      <td>8878</td>\n",
       "    </tr>\n",
       "  </tbody>\n",
       "</table>\n",
       "</div>"
      ],
      "text/plain": [
       "           Net Sales\n",
       "Age Group           \n",
       "Adult          52582\n",
       "Child            828\n",
       "Senior          8878"
      ]
     },
     "execution_count": 26,
     "metadata": {},
     "output_type": "execute_result"
    }
   ],
   "source": [
    "data.pivot_table(index = ['Age Group'], values = ['Net Sales'], aggfunc = 'count')"
   ]
  },
  {
   "cell_type": "code",
   "execution_count": 27,
   "id": "f1476c70",
   "metadata": {},
   "outputs": [
    {
     "data": {
      "text/plain": [
       "Age Group  Claim\n",
       "Adult      0        42203\n",
       "           1        10379\n",
       "Child      0          605\n",
       "           1          223\n",
       "Senior     0         7022\n",
       "           1         1856\n",
       "Name: Claim, dtype: int64"
      ]
     },
     "execution_count": 27,
     "metadata": {},
     "output_type": "execute_result"
    }
   ],
   "source": [
    "data.groupby('Age Group')['Claim'].value_counts()"
   ]
  },
  {
   "cell_type": "code",
   "execution_count": 28,
   "id": "6667f077",
   "metadata": {},
   "outputs": [
    {
     "name": "stderr",
     "output_type": "stream",
     "text": [
      "/Users/aliluabk/opt/anaconda3/lib/python3.8/site-packages/seaborn/_decorators.py:36: FutureWarning: Pass the following variable as a keyword arg: x. From version 0.12, the only valid positional argument will be `data`, and passing other arguments without an explicit keyword will result in an error or misinterpretation.\n",
      "  warnings.warn(\n"
     ]
    },
    {
     "data": {
      "text/plain": [
       "<seaborn.axisgrid.FacetGrid at 0x7ff346f74e80>"
      ]
     },
     "execution_count": 28,
     "metadata": {},
     "output_type": "execute_result"
    },
    {
     "data": {
      "text/plain": [
       "<Figure size 288x288 with 0 Axes>"
      ]
     },
     "metadata": {},
     "output_type": "display_data"
    },
    {
     "data": {
      "image/png": "[encoded data removed]",
      "text/plain": [
       "<Figure size 1080x360 with 3 Axes>"
      ]
     },
     "metadata": {
      "needs_background": "light"
     },
     "output_type": "display_data"
    }
   ],
   "source": [
    "fig = plt.figure(figsize = (4,4))\n",
    "sns.catplot('Claim', col = 'Age Group', data = data, col_wrap =3, kind='count',sharey=False)"
   ]
  },
  {
   "cell_type": "code",
   "execution_count": 29,
   "id": "b08bd72c",
   "metadata": {},
   "outputs": [],
   "source": [
    "# Converting all IDs to sensible numbers (Risk of default - inspired by WOE)\n",
    "data['Destination_risk'] = data.groupby('Destination')['Claim'].transform('mean')"
   ]
  },
  {
   "cell_type": "code",
   "execution_count": 30,
   "id": "6ea3af3a",
   "metadata": {},
   "outputs": [],
   "source": [
    "\n",
    "\n",
    "def Coutry_Categories(value):\n",
    "    result = ''\n",
    "    if(value >= 0.3):\n",
    "        result = '(1) High Risk - More than 30% Claimed'\n",
    "    elif(value >= 0.2):\n",
    "        result = '(2) Medium Risk - More than 20% Claimed'\n",
    "    elif(value > 0):\n",
    "        result = '(3) Low Risk - More than 1% Claimed'\n",
    "    else:\n",
    "        result = '(4) No Risk Countries'\n",
    "    return result\n",
    "\n"
   ]
  },
  {
   "cell_type": "code",
   "execution_count": 31,
   "id": "8aa8d865",
   "metadata": {},
   "outputs": [],
   "source": [
    "data['Risk of Countries'] = data['Destination_risk'].map(lambda x: Coutry_Categories(x))"
   ]
  },
  {
   "cell_type": "code",
   "execution_count": 32,
   "id": "0059d4a7",
   "metadata": {},
   "outputs": [
    {
     "data": {
      "text/html": [
       "<div>\n",
       "<style scoped>\n",
       "    .dataframe tbody tr th:only-of-type {\n",
       "        vertical-align: middle;\n",
       "    }\n",
       "\n",
       "    .dataframe tbody tr th {\n",
       "        vertical-align: top;\n",
       "    }\n",
       "\n",
       "    .dataframe thead th {\n",
       "        text-align: right;\n",
       "    }\n",
       "</style>\n",
       "<table border=\"1\" class=\"dataframe\">\n",
       "  <thead>\n",
       "    <tr style=\"text-align: right;\">\n",
       "      <th></th>\n",
       "      <th>ID</th>\n",
       "      <th>Age</th>\n",
       "      <th>Agency</th>\n",
       "      <th>Agency Type</th>\n",
       "      <th>Commision (in value)</th>\n",
       "      <th>Destination</th>\n",
       "      <th>...</th>\n",
       "      <th>Net Sales</th>\n",
       "      <th>Product Name</th>\n",
       "      <th>Claim</th>\n",
       "      <th>Age Group</th>\n",
       "      <th>Destination_risk</th>\n",
       "      <th>Risk of Countries</th>\n",
       "    </tr>\n",
       "  </thead>\n",
       "  <tbody>\n",
       "    <tr>\n",
       "      <th>0</th>\n",
       "      <td>45341</td>\n",
       "      <td>28.0</td>\n",
       "      <td>C2B</td>\n",
       "      <td>Airlines</td>\n",
       "      <td>28.13</td>\n",
       "      <td>SINGAPORE</td>\n",
       "      <td>...</td>\n",
       "      <td>112.5</td>\n",
       "      <td>Silver Plan</td>\n",
       "      <td>1</td>\n",
       "      <td>Adult</td>\n",
       "      <td>0.427905</td>\n",
       "      <td>(1) High Risk - More than 30% Claimed</td>\n",
       "    </tr>\n",
       "    <tr>\n",
       "      <th>1</th>\n",
       "      <td>12958</td>\n",
       "      <td>37.0</td>\n",
       "      <td>JZI</td>\n",
       "      <td>Airlines</td>\n",
       "      <td>12.95</td>\n",
       "      <td>PHILIPPINES</td>\n",
       "      <td>...</td>\n",
       "      <td>37.0</td>\n",
       "      <td>Basic Plan</td>\n",
       "      <td>0</td>\n",
       "      <td>Adult</td>\n",
       "      <td>0.052657</td>\n",
       "      <td>(3) Low Risk - More than 1% Claimed</td>\n",
       "    </tr>\n",
       "    <tr>\n",
       "      <th>2</th>\n",
       "      <td>18233</td>\n",
       "      <td>27.0</td>\n",
       "      <td>EPX</td>\n",
       "      <td>Travel Agency</td>\n",
       "      <td>0.00</td>\n",
       "      <td>UNITED STATES</td>\n",
       "      <td>...</td>\n",
       "      <td>13.0</td>\n",
       "      <td>Cancellation Plan</td>\n",
       "      <td>0</td>\n",
       "      <td>Adult</td>\n",
       "      <td>0.206539</td>\n",
       "      <td>(2) Medium Risk - More than 20% Claimed</td>\n",
       "    </tr>\n",
       "    <tr>\n",
       "      <th>3</th>\n",
       "      <td>31742</td>\n",
       "      <td>36.0</td>\n",
       "      <td>EPX</td>\n",
       "      <td>Travel Agency</td>\n",
       "      <td>0.00</td>\n",
       "      <td>SAUDI ARABIA</td>\n",
       "      <td>...</td>\n",
       "      <td>34.0</td>\n",
       "      <td>Cancellation Plan</td>\n",
       "      <td>0</td>\n",
       "      <td>Adult</td>\n",
       "      <td>0.000000</td>\n",
       "      <td>(4) No Risk Countries</td>\n",
       "    </tr>\n",
       "    <tr>\n",
       "      <th>4</th>\n",
       "      <td>14381</td>\n",
       "      <td>26.0</td>\n",
       "      <td>CWT</td>\n",
       "      <td>Travel Agency</td>\n",
       "      <td>23.76</td>\n",
       "      <td>THAILAND</td>\n",
       "      <td>...</td>\n",
       "      <td>39.6</td>\n",
       "      <td>Rental Vehicle Excess Insurance</td>\n",
       "      <td>0</td>\n",
       "      <td>Adult</td>\n",
       "      <td>0.091330</td>\n",
       "      <td>(3) Low Risk - More than 1% Claimed</td>\n",
       "    </tr>\n",
       "  </tbody>\n",
       "</table>\n",
       "<p>5 rows × 14 columns</p>\n",
       "</div>"
      ],
      "text/plain": [
       "      ID   Age Agency    Agency Type  Commision (in value)    Destination  \\\n",
       "0  45341  28.0    C2B       Airlines                 28.13      SINGAPORE   \n",
       "1  12958  37.0    JZI       Airlines                 12.95    PHILIPPINES   \n",
       "2  18233  27.0    EPX  Travel Agency                  0.00  UNITED STATES   \n",
       "3  31742  36.0    EPX  Travel Agency                  0.00   SAUDI ARABIA   \n",
       "4  14381  26.0    CWT  Travel Agency                 23.76       THAILAND   \n",
       "\n",
       "   ... Net Sales                     Product Name  Claim Age Group  \\\n",
       "0  ...     112.5                      Silver Plan      1     Adult   \n",
       "1  ...      37.0                       Basic Plan      0     Adult   \n",
       "2  ...      13.0                Cancellation Plan      0     Adult   \n",
       "3  ...      34.0                Cancellation Plan      0     Adult   \n",
       "4  ...      39.6  Rental Vehicle Excess Insurance      0     Adult   \n",
       "\n",
       "   Destination_risk                        Risk of Countries  \n",
       "0          0.427905    (1) High Risk - More than 30% Claimed  \n",
       "1          0.052657      (3) Low Risk - More than 1% Claimed  \n",
       "2          0.206539  (2) Medium Risk - More than 20% Claimed  \n",
       "3          0.000000                    (4) No Risk Countries  \n",
       "4          0.091330      (3) Low Risk - More than 1% Claimed  \n",
       "\n",
       "[5 rows x 14 columns]"
      ]
     },
     "execution_count": 32,
     "metadata": {},
     "output_type": "execute_result"
    }
   ],
   "source": [
    "data.head(5)"
   ]
  },
  {
   "cell_type": "markdown",
   "id": "b7e7474b",
   "metadata": {},
   "source": [
    "# Feature Engineering"
   ]
  },
  {
   "cell_type": "code",
   "execution_count": 33,
   "id": "601b38ce",
   "metadata": {},
   "outputs": [
    {
     "data": {
      "text/html": [
       "<div>\n",
       "<style scoped>\n",
       "    .dataframe tbody tr th:only-of-type {\n",
       "        vertical-align: middle;\n",
       "    }\n",
       "\n",
       "    .dataframe tbody tr th {\n",
       "        vertical-align: top;\n",
       "    }\n",
       "\n",
       "    .dataframe thead th {\n",
       "        text-align: right;\n",
       "    }\n",
       "</style>\n",
       "<table border=\"1\" class=\"dataframe\">\n",
       "  <thead>\n",
       "    <tr style=\"text-align: right;\">\n",
       "      <th></th>\n",
       "      <th>ID</th>\n",
       "      <th>Age</th>\n",
       "      <th>Agency</th>\n",
       "      <th>Agency Type</th>\n",
       "      <th>Commision (in value)</th>\n",
       "      <th>Destination</th>\n",
       "      <th>...</th>\n",
       "      <th>Net Sales</th>\n",
       "      <th>Product Name</th>\n",
       "      <th>Claim</th>\n",
       "      <th>Age Group</th>\n",
       "      <th>Destination_risk</th>\n",
       "      <th>Risk of Countries</th>\n",
       "    </tr>\n",
       "  </thead>\n",
       "  <tbody>\n",
       "    <tr>\n",
       "      <th>0</th>\n",
       "      <td>45341</td>\n",
       "      <td>28.0</td>\n",
       "      <td>C2B</td>\n",
       "      <td>Airlines</td>\n",
       "      <td>28.13</td>\n",
       "      <td>SINGAPORE</td>\n",
       "      <td>...</td>\n",
       "      <td>112.5</td>\n",
       "      <td>Silver Plan</td>\n",
       "      <td>1</td>\n",
       "      <td>Adult</td>\n",
       "      <td>0.427905</td>\n",
       "      <td>(1) High Risk - More than 30% Claimed</td>\n",
       "    </tr>\n",
       "  </tbody>\n",
       "</table>\n",
       "<p>1 rows × 14 columns</p>\n",
       "</div>"
      ],
      "text/plain": [
       "      ID   Age Agency Agency Type  Commision (in value) Destination  ...  \\\n",
       "0  45341  28.0    C2B    Airlines                 28.13   SINGAPORE  ...   \n",
       "\n",
       "  Net Sales  Product Name  Claim Age Group  Destination_risk  \\\n",
       "0     112.5   Silver Plan      1     Adult          0.427905   \n",
       "\n",
       "                       Risk of Countries  \n",
       "0  (1) High Risk - More than 30% Claimed  \n",
       "\n",
       "[1 rows x 14 columns]"
      ]
     },
     "execution_count": 33,
     "metadata": {},
     "output_type": "execute_result"
    }
   ],
   "source": [
    "data.head(1)"
   ]
  },
  {
   "cell_type": "code",
   "execution_count": 34,
   "id": "91d042f9",
   "metadata": {},
   "outputs": [],
   "source": [
    "def feature_processing(df):\n",
    "    # Converting all categorical columns into numeric using frequency encoding, label encoding and one-hot encoding.\n",
    "    fe = df.groupby('Destination').size()/len(df)\n",
    "    df.loc[:,'Dest_fe'] = df['Destination'].map(fe)\n",
    "    fe_1 = df.groupby('Agency').size()/len(df)\n",
    "    df.loc[:,'Agency_fe'] = df['Agency'].map(fe_1)\n",
    "    fe_2 = df.groupby('Product Name').size()/len(df)    \n",
    "    df.loc[:,'Product Name_fe'] = df['Product Name'].map(fe_2)\n",
    "    df.drop(columns='Agency',axis=1,inplace=True)\n",
    "    df.drop(columns='Destination',axis=1,inplace=True)\n",
    "    df.drop(columns='Product Name',axis=1,inplace=True)\n",
    "    df.drop(columns='Age Group',axis=1,inplace=True)\n",
    "    df = pd.get_dummies(df, columns=['Agency Type','Distribution Channel'], drop_first=True)"
   ]
  },
  {
   "cell_type": "code",
   "execution_count": 35,
   "id": "38424c05",
   "metadata": {},
   "outputs": [],
   "source": [
    "feature_processing(data)"
   ]
  },
  {
   "cell_type": "code",
   "execution_count": 36,
   "id": "e60f7df6",
   "metadata": {},
   "outputs": [
    {
     "data": {
      "text/html": [
       "<div>\n",
       "<style scoped>\n",
       "    .dataframe tbody tr th:only-of-type {\n",
       "        vertical-align: middle;\n",
       "    }\n",
       "\n",
       "    .dataframe tbody tr th {\n",
       "        vertical-align: top;\n",
       "    }\n",
       "\n",
       "    .dataframe thead th {\n",
       "        text-align: right;\n",
       "    }\n",
       "</style>\n",
       "<table border=\"1\" class=\"dataframe\">\n",
       "  <thead>\n",
       "    <tr style=\"text-align: right;\">\n",
       "      <th></th>\n",
       "      <th>ID</th>\n",
       "      <th>Age</th>\n",
       "      <th>Agency Type</th>\n",
       "      <th>Commision (in value)</th>\n",
       "      <th>Distribution Channel</th>\n",
       "      <th>Duration</th>\n",
       "      <th>...</th>\n",
       "      <th>Claim</th>\n",
       "      <th>Destination_risk</th>\n",
       "      <th>Risk of Countries</th>\n",
       "      <th>Dest_fe</th>\n",
       "      <th>Agency_fe</th>\n",
       "      <th>Product Name_fe</th>\n",
       "    </tr>\n",
       "  </thead>\n",
       "  <tbody>\n",
       "    <tr>\n",
       "      <th>0</th>\n",
       "      <td>45341</td>\n",
       "      <td>28.0</td>\n",
       "      <td>Airlines</td>\n",
       "      <td>28.13</td>\n",
       "      <td>Online</td>\n",
       "      <td>34</td>\n",
       "      <td>...</td>\n",
       "      <td>1</td>\n",
       "      <td>0.427905</td>\n",
       "      <td>(1) High Risk - More than 30% Claimed</td>\n",
       "      <td>0.285705</td>\n",
       "      <td>0.218469</td>\n",
       "      <td>0.058535</td>\n",
       "    </tr>\n",
       "    <tr>\n",
       "      <th>1</th>\n",
       "      <td>12958</td>\n",
       "      <td>37.0</td>\n",
       "      <td>Airlines</td>\n",
       "      <td>12.95</td>\n",
       "      <td>Online</td>\n",
       "      <td>53</td>\n",
       "      <td>...</td>\n",
       "      <td>0</td>\n",
       "      <td>0.052657</td>\n",
       "      <td>(3) Low Risk - More than 1% Claimed</td>\n",
       "      <td>0.032928</td>\n",
       "      <td>0.086951</td>\n",
       "      <td>0.074894</td>\n",
       "    </tr>\n",
       "    <tr>\n",
       "      <th>2</th>\n",
       "      <td>18233</td>\n",
       "      <td>27.0</td>\n",
       "      <td>Travel Agency</td>\n",
       "      <td>0.00</td>\n",
       "      <td>Online</td>\n",
       "      <td>28</td>\n",
       "      <td>...</td>\n",
       "      <td>0</td>\n",
       "      <td>0.206539</td>\n",
       "      <td>(2) Medium Risk - More than 20% Claimed</td>\n",
       "      <td>0.040265</td>\n",
       "      <td>0.488296</td>\n",
       "      <td>0.246500</td>\n",
       "    </tr>\n",
       "    <tr>\n",
       "      <th>3</th>\n",
       "      <td>31742</td>\n",
       "      <td>36.0</td>\n",
       "      <td>Travel Agency</td>\n",
       "      <td>0.00</td>\n",
       "      <td>Online</td>\n",
       "      <td>1</td>\n",
       "      <td>...</td>\n",
       "      <td>0</td>\n",
       "      <td>0.000000</td>\n",
       "      <td>(4) No Risk Countries</td>\n",
       "      <td>0.000819</td>\n",
       "      <td>0.488296</td>\n",
       "      <td>0.246500</td>\n",
       "    </tr>\n",
       "    <tr>\n",
       "      <th>4</th>\n",
       "      <td>14381</td>\n",
       "      <td>26.0</td>\n",
       "      <td>Travel Agency</td>\n",
       "      <td>23.76</td>\n",
       "      <td>Online</td>\n",
       "      <td>33</td>\n",
       "      <td>...</td>\n",
       "      <td>0</td>\n",
       "      <td>0.091330</td>\n",
       "      <td>(3) Low Risk - More than 1% Claimed</td>\n",
       "      <td>0.083146</td>\n",
       "      <td>0.127729</td>\n",
       "      <td>0.127729</td>\n",
       "    </tr>\n",
       "  </tbody>\n",
       "</table>\n",
       "<p>5 rows × 13 columns</p>\n",
       "</div>"
      ],
      "text/plain": [
       "      ID   Age    Agency Type  Commision (in value) Distribution Channel  \\\n",
       "0  45341  28.0       Airlines                 28.13               Online   \n",
       "1  12958  37.0       Airlines                 12.95               Online   \n",
       "2  18233  27.0  Travel Agency                  0.00               Online   \n",
       "3  31742  36.0  Travel Agency                  0.00               Online   \n",
       "4  14381  26.0  Travel Agency                 23.76               Online   \n",
       "\n",
       "   Duration  ...  Claim  Destination_risk  \\\n",
       "0        34  ...      1          0.427905   \n",
       "1        53  ...      0          0.052657   \n",
       "2        28  ...      0          0.206539   \n",
       "3         1  ...      0          0.000000   \n",
       "4        33  ...      0          0.091330   \n",
       "\n",
       "                         Risk of Countries   Dest_fe  Agency_fe  \\\n",
       "0    (1) High Risk - More than 30% Claimed  0.285705   0.218469   \n",
       "1      (3) Low Risk - More than 1% Claimed  0.032928   0.086951   \n",
       "2  (2) Medium Risk - More than 20% Claimed  0.040265   0.488296   \n",
       "3                    (4) No Risk Countries  0.000819   0.488296   \n",
       "4      (3) Low Risk - More than 1% Claimed  0.083146   0.127729   \n",
       "\n",
       "   Product Name_fe  \n",
       "0         0.058535  \n",
       "1         0.074894  \n",
       "2         0.246500  \n",
       "3         0.246500  \n",
       "4         0.127729  \n",
       "\n",
       "[5 rows x 13 columns]"
      ]
     },
     "execution_count": 36,
     "metadata": {},
     "output_type": "execute_result"
    }
   ],
   "source": [
    "data.head(5)"
   ]
  },
  {
   "cell_type": "code",
   "execution_count": 37,
   "id": "62d0052b",
   "metadata": {},
   "outputs": [],
   "source": [
    "data.drop(columns=['Risk of Countries'],axis=1,inplace=True)"
   ]
  },
  {
   "cell_type": "code",
   "execution_count": 38,
   "id": "b7ea7483",
   "metadata": {},
   "outputs": [],
   "source": [
    "data.drop(columns=['Destination_risk'],axis=1,inplace=True)"
   ]
  },
  {
   "cell_type": "code",
   "execution_count": 39,
   "id": "df7fd333",
   "metadata": {},
   "outputs": [],
   "source": [
    "data = pd.get_dummies(data, columns=['Agency Type','Distribution Channel'], drop_first=True)"
   ]
  },
  {
   "cell_type": "code",
   "execution_count": 40,
   "id": "a140e52e",
   "metadata": {},
   "outputs": [
    {
     "data": {
      "text/html": [
       "<div>\n",
       "<style scoped>\n",
       "    .dataframe tbody tr th:only-of-type {\n",
       "        vertical-align: middle;\n",
       "    }\n",
       "\n",
       "    .dataframe tbody tr th {\n",
       "        vertical-align: top;\n",
       "    }\n",
       "\n",
       "    .dataframe thead th {\n",
       "        text-align: right;\n",
       "    }\n",
       "</style>\n",
       "<table border=\"1\" class=\"dataframe\">\n",
       "  <thead>\n",
       "    <tr style=\"text-align: right;\">\n",
       "      <th></th>\n",
       "      <th>ID</th>\n",
       "      <th>Age</th>\n",
       "      <th>Commision (in value)</th>\n",
       "      <th>Duration</th>\n",
       "      <th>Net Sales</th>\n",
       "      <th>Claim</th>\n",
       "      <th>Dest_fe</th>\n",
       "      <th>Agency_fe</th>\n",
       "      <th>Product Name_fe</th>\n",
       "      <th>Agency Type_Travel Agency</th>\n",
       "      <th>Distribution Channel_Online</th>\n",
       "    </tr>\n",
       "  </thead>\n",
       "  <tbody>\n",
       "    <tr>\n",
       "      <th>0</th>\n",
       "      <td>45341</td>\n",
       "      <td>28.0</td>\n",
       "      <td>28.13</td>\n",
       "      <td>34</td>\n",
       "      <td>112.5</td>\n",
       "      <td>1</td>\n",
       "      <td>0.285705</td>\n",
       "      <td>0.218469</td>\n",
       "      <td>0.058535</td>\n",
       "      <td>0</td>\n",
       "      <td>1</td>\n",
       "    </tr>\n",
       "    <tr>\n",
       "      <th>1</th>\n",
       "      <td>12958</td>\n",
       "      <td>37.0</td>\n",
       "      <td>12.95</td>\n",
       "      <td>53</td>\n",
       "      <td>37.0</td>\n",
       "      <td>0</td>\n",
       "      <td>0.032928</td>\n",
       "      <td>0.086951</td>\n",
       "      <td>0.074894</td>\n",
       "      <td>0</td>\n",
       "      <td>1</td>\n",
       "    </tr>\n",
       "    <tr>\n",
       "      <th>2</th>\n",
       "      <td>18233</td>\n",
       "      <td>27.0</td>\n",
       "      <td>0.00</td>\n",
       "      <td>28</td>\n",
       "      <td>13.0</td>\n",
       "      <td>0</td>\n",
       "      <td>0.040265</td>\n",
       "      <td>0.488296</td>\n",
       "      <td>0.246500</td>\n",
       "      <td>1</td>\n",
       "      <td>1</td>\n",
       "    </tr>\n",
       "    <tr>\n",
       "      <th>3</th>\n",
       "      <td>31742</td>\n",
       "      <td>36.0</td>\n",
       "      <td>0.00</td>\n",
       "      <td>1</td>\n",
       "      <td>34.0</td>\n",
       "      <td>0</td>\n",
       "      <td>0.000819</td>\n",
       "      <td>0.488296</td>\n",
       "      <td>0.246500</td>\n",
       "      <td>1</td>\n",
       "      <td>1</td>\n",
       "    </tr>\n",
       "    <tr>\n",
       "      <th>4</th>\n",
       "      <td>14381</td>\n",
       "      <td>26.0</td>\n",
       "      <td>23.76</td>\n",
       "      <td>33</td>\n",
       "      <td>39.6</td>\n",
       "      <td>0</td>\n",
       "      <td>0.083146</td>\n",
       "      <td>0.127729</td>\n",
       "      <td>0.127729</td>\n",
       "      <td>1</td>\n",
       "      <td>1</td>\n",
       "    </tr>\n",
       "  </tbody>\n",
       "</table>\n",
       "</div>"
      ],
      "text/plain": [
       "      ID   Age  Commision (in value)  Duration  Net Sales  Claim   Dest_fe  \\\n",
       "0  45341  28.0                 28.13        34      112.5      1  0.285705   \n",
       "1  12958  37.0                 12.95        53       37.0      0  0.032928   \n",
       "2  18233  27.0                  0.00        28       13.0      0  0.040265   \n",
       "3  31742  36.0                  0.00         1       34.0      0  0.000819   \n",
       "4  14381  26.0                 23.76        33       39.6      0  0.083146   \n",
       "\n",
       "   Agency_fe  Product Name_fe  Agency Type_Travel Agency  \\\n",
       "0   0.218469         0.058535                          0   \n",
       "1   0.086951         0.074894                          0   \n",
       "2   0.488296         0.246500                          1   \n",
       "3   0.488296         0.246500                          1   \n",
       "4   0.127729         0.127729                          1   \n",
       "\n",
       "   Distribution Channel_Online  \n",
       "0                            1  \n",
       "1                            1  \n",
       "2                            1  \n",
       "3                            1  \n",
       "4                            1  "
      ]
     },
     "execution_count": 40,
     "metadata": {},
     "output_type": "execute_result"
    }
   ],
   "source": [
    "data.head(5)"
   ]
  },
  {
   "cell_type": "markdown",
   "id": "be53cf32",
   "metadata": {},
   "source": [
    "# Preparing and training a baseline model."
   ]
  },
  {
   "cell_type": "code",
   "execution_count": 41,
   "id": "f88ef513",
   "metadata": {},
   "outputs": [],
   "source": [
    "X = data.drop('Claim', axis = 1)\n",
    "Y = data['Claim']"
   ]
  },
  {
   "cell_type": "code",
   "execution_count": 42,
   "id": "432e224d",
   "metadata": {},
   "outputs": [],
   "source": [
    "# Multi colinearity detection\n",
    "def plot_heatmap(df, fig_size=(10, 7)):\n",
    "    fig = plt.figure(figsize=fig_size)\n",
    "    sns.heatmap(df.corr(), annot=True)\n",
    "    plt.title('Heatmap for detecting multicollinearity', fontsize=16, color='navy')\n",
    "    plt.show()"
   ]
  },
  {
   "cell_type": "code",
   "execution_count": 43,
   "id": "82e5849d",
   "metadata": {},
   "outputs": [
    {
     "data": {
      "image/png": "[encoded data removed]",
      "text/plain": [
       "<Figure size 720x504 with 2 Axes>"
      ]
     },
     "metadata": {
      "needs_background": "light"
     },
     "output_type": "display_data"
    }
   ],
   "source": [
    "plot_heatmap(X)"
   ]
  },
  {
   "cell_type": "markdown",
   "id": "a5cac6a0",
   "metadata": {},
   "source": [
    "\n",
    "Inference :\n",
    "\n",
    "From the above heat-map we can see that there is not a high co-relation between any features and hence we can continue with all of the above features to train our model.\n"
   ]
  },
  {
   "cell_type": "code",
   "execution_count": 44,
   "id": "2326c486",
   "metadata": {},
   "outputs": [],
   "source": [
    "X_train, X_test, Y_train, Y_test = train_test_split(X,Y, train_size = 0.7, random_state = 7)"
   ]
  },
  {
   "cell_type": "markdown",
   "id": "0d1635b0",
   "metadata": {},
   "source": [
    "# Model (variety, complexity, tunning): "
   ]
  },
  {
   "cell_type": "markdown",
   "id": "64a8d89e",
   "metadata": {},
   "source": [
    "# Random Forest Classifier"
   ]
  },
  {
   "cell_type": "code",
   "execution_count": 45,
   "id": "0d93eb73",
   "metadata": {},
   "outputs": [
    {
     "name": "stdout",
     "output_type": "stream",
     "text": [
      "True           0     1\n",
      "Predicted             \n",
      "0          14868     0\n",
      "1            104  3715\n",
      "0.994434633702574\n",
      "              precision    recall  f1-score   support\n",
      "\n",
      "           0       1.00      0.99      1.00     14972\n",
      "           1       0.97      1.00      0.99      3715\n",
      "\n",
      "    accuracy                           0.99     18687\n",
      "   macro avg       0.99      1.00      0.99     18687\n",
      "weighted avg       0.99      0.99      0.99     18687\n",
      "\n"
     ]
    }
   ],
   "source": [
    "rf = RandomForestClassifier()\n",
    "rf.fit(X_train, Y_train)\n",
    "y_pred_rf = rf.predict(X_test)\n",
    "cm_rf = pd.DataFrame(confusion_matrix(Y_test, y_pred_rf).T, index=rf.classes_,\n",
    "                     columns=rf.classes_)\n",
    "cm_rf.index.name = 'Predicted'\n",
    "cm_rf.columns.name = 'True'\n",
    "print(cm_rf)\n",
    "print(accuracy_score(Y_test, y_pred_rf))\n",
    "print(classification_report(Y_test, y_pred_rf))"
   ]
  },
  {
   "cell_type": "markdown",
   "id": "21918e8b",
   "metadata": {},
   "source": [
    "# Hyperparameter tuning for RFC"
   ]
  },
  {
   "cell_type": "code",
   "execution_count": 46,
   "id": "a167aa8c",
   "metadata": {},
   "outputs": [
    {
     "name": "stdout",
     "output_type": "stream",
     "text": [
      "[Pipeline] ...... (step 1 of 2) Processing feature_sele, total=  50.4s\n",
      "Fitting 5 folds for each of 2 candidates, totalling 10 fits\n",
      "[CV 1/5] END ...max_depth=2;, score=(train=0.804, test=0.807) total time=   0.4s\n",
      "[CV 2/5] END ...max_depth=2;, score=(train=0.810, test=0.802) total time=   0.4s\n",
      "[CV 3/5] END ...max_depth=2;, score=(train=0.808, test=0.807) total time=   0.4s\n",
      "[CV 4/5] END ...max_depth=2;, score=(train=0.804, test=0.801) total time=   0.4s\n",
      "[CV 5/5] END ...max_depth=2;, score=(train=0.798, test=0.802) total time=   0.4s\n",
      "[CV 1/5] END ...max_depth=3;, score=(train=0.813, test=0.816) total time=   0.4s\n",
      "[CV 2/5] END ...max_depth=3;, score=(train=0.817, test=0.810) total time=   0.4s\n",
      "[CV 3/5] END ...max_depth=3;, score=(train=0.818, test=0.817) total time=   0.4s\n",
      "[CV 4/5] END ...max_depth=3;, score=(train=0.816, test=0.816) total time=   0.4s\n",
      "[CV 5/5] END ...max_depth=3;, score=(train=0.813, test=0.817) total time=   0.4s\n",
      "[Pipeline] ............ (step 2 of 2) Processing clf_cv, total=   5.3s\n"
     ]
    },
    {
     "data": {
      "text/plain": [
       "Pipeline(steps=[('feature_sele',\n",
       "                 RFECV(cv=5,\n",
       "                       estimator=RandomForestClassifier(class_weight='balanced',\n",
       "                                                        n_estimators=30,\n",
       "                                                        random_state=42),\n",
       "                       scoring='roc_auc')),\n",
       "                ('clf_cv',\n",
       "                 GridSearchCV(cv=5,\n",
       "                              estimator=RandomForestClassifier(class_weight='balanced',\n",
       "                                                               max_features=2,\n",
       "                                                               n_estimators=50,\n",
       "                                                               random_state=42),\n",
       "                              param_grid={'max_depth': [2, 3]}, refit='AUC',\n",
       "                              return_train_score=True, verbose=3))],\n",
       "         verbose=3)"
      ]
     },
     "execution_count": 46,
     "metadata": {},
     "output_type": "execute_result"
    }
   ],
   "source": [
    "from sklearn.model_selection import GridSearchCV\n",
    "from sklearn.pipeline import Pipeline\n",
    "from sklearn.feature_selection import RFECV\n",
    "\n",
    "#this is the classifier used for feature selection\n",
    "clf_featr_sele = RandomForestClassifier(n_estimators=30, random_state=42, class_weight=\"balanced\") \n",
    "rfecv = RFECV(estimator=clf_featr_sele, step=1, cv=5, scoring = 'roc_auc')\n",
    "\n",
    "#you can have different classifier for your final classifier\n",
    "clf = RandomForestClassifier(n_estimators=50, random_state=42,class_weight=\"balanced\", max_features = 2) \n",
    "CV_rfc = GridSearchCV(clf, param_grid={'max_depth':[2,3]}, cv= 5, refit='AUC', return_train_score=True, verbose=3)\n",
    "\n",
    "pipeline  = Pipeline([('feature_sele',rfecv),('clf_cv',CV_rfc)], verbose=3)\n",
    "\n",
    "pipeline.fit(X_train, Y_train)"
   ]
  },
  {
   "cell_type": "code",
   "execution_count": 47,
   "id": "fb7e95a4",
   "metadata": {},
   "outputs": [
    {
     "name": "stdout",
     "output_type": "stream",
     "text": [
      "Tuned Hyperparameters : {'max_depth': 3}\n",
      "Accuracy : 0.8150959668163633\n"
     ]
    }
   ],
   "source": [
    "print(\"Tuned Hyperparameters :\", CV_rfc.best_params_)\n",
    "print(\"Accuracy :\",CV_rfc.best_score_)"
   ]
  },
  {
   "cell_type": "markdown",
   "id": "566bb2e2",
   "metadata": {},
   "source": [
    "# Logistic Regression"
   ]
  },
  {
   "cell_type": "code",
   "execution_count": 48,
   "id": "0688ebb4",
   "metadata": {},
   "outputs": [
    {
     "name": "stdout",
     "output_type": "stream",
     "text": [
      "True           0     1\n",
      "Predicted             \n",
      "0          14562  3002\n",
      "1            410   713\n",
      "\n",
      "Accuracy : 0.8174131749344464\n",
      "              precision    recall  f1-score   support\n",
      "\n",
      "           0       0.83      0.97      0.90     14972\n",
      "           1       0.63      0.19      0.29      3715\n",
      "\n",
      "    accuracy                           0.82     18687\n",
      "   macro avg       0.73      0.58      0.59     18687\n",
      "weighted avg       0.79      0.82      0.78     18687\n",
      "\n"
     ]
    }
   ],
   "source": [
    "logr = LogisticRegression()\n",
    "logr.fit(X_train,Y_train)\n",
    "y_pred_logr = logr.predict(X_test)\n",
    "cm_lg = pd.DataFrame(confusion_matrix(Y_test, y_pred_logr).T, index=logr.classes_,\n",
    "                     columns=logr.classes_)\n",
    "cm_lg.index.name = 'Predicted'\n",
    "cm_lg.columns.name = 'True'\n",
    "print(cm_lg)\n",
    "\n",
    "print('\\nAccuracy :',accuracy_score(Y_test, y_pred_logr))\n",
    "print(classification_report(Y_test, y_pred_logr))"
   ]
  },
  {
   "cell_type": "markdown",
   "id": "d7f681fd",
   "metadata": {},
   "source": [
    "# Hyperparameter tuning for LR"
   ]
  },
  {
   "cell_type": "code",
   "execution_count": 49,
   "id": "c8d0d043",
   "metadata": {},
   "outputs": [],
   "source": [
    "from sklearn.model_selection import GridSearchCV\n",
    "import warnings\n",
    "warnings.filterwarnings('ignore')\n",
    "# parameter grid\n",
    "parameters = {\n",
    "    'penalty' : ['l1','l2'], \n",
    "    'C'       : np.logspace(-3,3,7),\n",
    "    'solver'  : ['newton-cg', 'lbfgs', 'liblinear'],\n",
    "}"
   ]
  },
  {
   "cell_type": "code",
   "execution_count": 50,
   "id": "b662bdef",
   "metadata": {},
   "outputs": [],
   "source": [
    "logreg = LogisticRegression()\n",
    "clf = GridSearchCV(logreg,                    # model\n",
    "                   param_grid = parameters,   # hyperparameters\n",
    "                   scoring='accuracy',        # metric for scoring\n",
    "                   cv=10)                     # number of folds "
   ]
  },
  {
   "cell_type": "code",
   "execution_count": 51,
   "id": "ff231346",
   "metadata": {},
   "outputs": [
    {
     "data": {
      "text/plain": [
       "GridSearchCV(cv=10, estimator=LogisticRegression(),\n",
       "             param_grid={'C': array([1.e-03, 1.e-02, 1.e-01, 1.e+00, 1.e+01, 1.e+02, 1.e+03]),\n",
       "                         'penalty': ['l1', 'l2'],\n",
       "                         'solver': ['newton-cg', 'lbfgs', 'liblinear']},\n",
       "             scoring='accuracy')"
      ]
     },
     "execution_count": 51,
     "metadata": {},
     "output_type": "execute_result"
    }
   ],
   "source": [
    "clf.fit(X_train,Y_train)"
   ]
  },
  {
   "cell_type": "code",
   "execution_count": 52,
   "id": "b650ce9f",
   "metadata": {},
   "outputs": [
    {
     "name": "stdout",
     "output_type": "stream",
     "text": [
      "Tuned Hyperparameters : {'C': 10.0, 'penalty': 'l1', 'solver': 'liblinear'}\n",
      "Accuracy : 0.8250727307725482\n"
     ]
    }
   ],
   "source": [
    "print(\"Tuned Hyperparameters :\", clf.best_params_)\n",
    "print(\"Accuracy :\", clf.best_score_)"
   ]
  },
  {
   "cell_type": "code",
   "execution_count": 53,
   "id": "2c4acf2c",
   "metadata": {},
   "outputs": [
    {
     "name": "stdout",
     "output_type": "stream",
     "text": [
      "Accuracy: 0.8235136726066249\n"
     ]
    }
   ],
   "source": [
    "logreg = LogisticRegression(C = 0.001, \n",
    "                            penalty = 'l1', \n",
    "                            solver = 'liblinear')\n",
    "logreg.fit(X_train,Y_train)\n",
    "y_pred = logreg.predict(X_test)\n",
    "\n",
    "print(\"Accuracy:\",logreg.score(X_test, Y_test))"
   ]
  },
  {
   "cell_type": "markdown",
   "id": "7f538b93",
   "metadata": {},
   "source": [
    "# Decision Tree Classifier"
   ]
  },
  {
   "cell_type": "code",
   "execution_count": 54,
   "id": "d682543d",
   "metadata": {},
   "outputs": [
    {
     "name": "stdout",
     "output_type": "stream",
     "text": [
      "True           0     1\n",
      "Predicted             \n",
      "0          14582     0\n",
      "1            390  3715\n",
      "\n",
      "Accuracy : 0.9791298763846524\n",
      "              precision    recall  f1-score   support\n",
      "\n",
      "           0       1.00      0.97      0.99     14972\n",
      "           1       0.90      1.00      0.95      3715\n",
      "\n",
      "    accuracy                           0.98     18687\n",
      "   macro avg       0.95      0.99      0.97     18687\n",
      "weighted avg       0.98      0.98      0.98     18687\n",
      "\n"
     ]
    }
   ],
   "source": [
    "from sklearn.tree import DecisionTreeClassifier\n",
    "dtc = DecisionTreeClassifier()\n",
    "dtc.fit(X_train, Y_train)\n",
    "y_pred_dtc = dtc.predict(X_test)\n",
    "\n",
    "cm_dtc = pd.DataFrame(confusion_matrix(Y_test, y_pred_dtc).T, index=dtc.classes_,\n",
    "                     columns=dtc.classes_)\n",
    "cm_dtc.index.name = 'Predicted'\n",
    "cm_dtc.columns.name = 'True'\n",
    "\n",
    "print(cm_dtc)\n",
    "print('\\nAccuracy :', accuracy_score(Y_test, y_pred_dtc))\n",
    "print(classification_report(Y_test, y_pred_dtc))"
   ]
  },
  {
   "cell_type": "markdown",
   "id": "0c7956e4",
   "metadata": {},
   "source": [
    "# Hyperparameter tuning for Decision Tree"
   ]
  },
  {
   "cell_type": "code",
   "execution_count": 55,
   "id": "01e3f657",
   "metadata": {},
   "outputs": [
    {
     "name": "stdout",
     "output_type": "stream",
     "text": [
      "\n",
      "Accuracy : 0.8771338363568256\n",
      "\n",
      "               precision    recall  f1-score   support\n",
      "\n",
      "           0       0.92      0.93      0.92     14972\n",
      "           1       0.71      0.65      0.68      3715\n",
      "\n",
      "    accuracy                           0.88     18687\n",
      "   macro avg       0.81      0.79      0.80     18687\n",
      "weighted avg       0.87      0.88      0.88     18687\n",
      "\n"
     ]
    }
   ],
   "source": [
    "parameters = dict(criterion=['gini','entropy'],max_depth=np.arange(4,13),\n",
    "                       min_samples_leaf=np.arange(2,6), min_samples_split=np.arange(2,6),\n",
    "                       max_features=['auto','sqrt','log2'])\n",
    "\n",
    "hyp_dtc = GridSearchCV(dtc, parameters, scoring='accuracy', cv=5)\n",
    "hyp_dtc.fit(X_train, Y_train)\n",
    "\n",
    "pred_dtc = hyp_dtc.predict(X_test)\n",
    "\n",
    "print('\\nAccuracy :',accuracy_score(Y_test, pred_dtc))\n",
    "print('\\n',classification_report(Y_test, pred_dtc))"
   ]
  },
  {
   "cell_type": "code",
   "execution_count": 56,
   "id": "90cf57f5",
   "metadata": {},
   "outputs": [
    {
     "data": {
      "text/plain": [
       "{'criterion': 'gini',\n",
       " 'max_depth': 12,\n",
       " 'max_features': 'auto',\n",
       " 'min_samples_leaf': 2,\n",
       " 'min_samples_split': 3}"
      ]
     },
     "execution_count": 56,
     "metadata": {},
     "output_type": "execute_result"
    }
   ],
   "source": [
    "hyp_dtc.best_params_"
   ]
  },
  {
   "cell_type": "markdown",
   "id": "de4157df",
   "metadata": {},
   "source": [
    "# Naive Bayes"
   ]
  },
  {
   "cell_type": "code",
   "execution_count": 57,
   "id": "d40cfbde",
   "metadata": {},
   "outputs": [
    {
     "name": "stdout",
     "output_type": "stream",
     "text": [
      "True           0     1\n",
      "Predicted             \n",
      "0          14170  2751\n",
      "1            802   964\n",
      "0.8098678225504361\n",
      "              precision    recall  f1-score   support\n",
      "\n",
      "           0       0.84      0.95      0.89     14972\n",
      "           1       0.55      0.26      0.35      3715\n",
      "\n",
      "    accuracy                           0.81     18687\n",
      "   macro avg       0.69      0.60      0.62     18687\n",
      "weighted avg       0.78      0.81      0.78     18687\n",
      "\n"
     ]
    }
   ],
   "source": [
    "from sklearn.naive_bayes import GaussianNB\n",
    "gnb = GaussianNB()\n",
    "gnb.fit(X_train, Y_train)\n",
    "y_pred_gnb = gnb.predict(X_test)\n",
    "\n",
    "cm_gnb = pd.DataFrame(confusion_matrix(Y_test, y_pred_gnb).T, index=gnb.classes_,\n",
    "                     columns=gnb.classes_)\n",
    "cm_gnb.index.name = 'Predicted'\n",
    "cm_gnb.columns.name = 'True'\n",
    "print(cm_gnb)\n",
    "print(accuracy_score(Y_test, y_pred_gnb))\n",
    "print(classification_report(Y_test, y_pred_gnb))"
   ]
  },
  {
   "cell_type": "markdown",
   "id": "fe0ac736",
   "metadata": {},
   "source": [
    "# Hyperparameter tuning for Naive Bayes"
   ]
  },
  {
   "cell_type": "code",
   "execution_count": 58,
   "id": "4392e132",
   "metadata": {},
   "outputs": [
    {
     "name": "stdout",
     "output_type": "stream",
     "text": [
      "Fitting 15 folds for each of 100 candidates, totalling 1500 fits\n"
     ]
    }
   ],
   "source": [
    "from sklearn.preprocessing import PowerTransformer\n",
    "from sklearn.model_selection import RepeatedStratifiedKFold\n",
    "cv_method = RepeatedStratifiedKFold(n_splits=5,  n_repeats=3, random_state=999)\n",
    "params_NB = {'var_smoothing': np.logspace(0,-9, num=100)}\n",
    "\n",
    "gs_NB = GridSearchCV(estimator=gnb, \n",
    "                     param_grid=params_NB, \n",
    "                     cv=cv_method,\n",
    "                     verbose=1, \n",
    "                     scoring='accuracy')\n",
    "\n",
    "Data_transformed = PowerTransformer().fit_transform(X_test)\n",
    "\n",
    "gs_NB.fit(Data_transformed, Y_test);"
   ]
  },
  {
   "cell_type": "code",
   "execution_count": 59,
   "id": "421964b4",
   "metadata": {},
   "outputs": [
    {
     "name": "stdout",
     "output_type": "stream",
     "text": [
      "Tuned Hyperparameters : {'var_smoothing': 1.0}\n",
      "Accuracy : 0.8249228059329294\n"
     ]
    }
   ],
   "source": [
    "print(\"Tuned Hyperparameters :\", gs_NB.best_params_)\n",
    "print(\"Accuracy :\",gs_NB.best_score_)"
   ]
  },
  {
   "cell_type": "markdown",
   "id": "14320877",
   "metadata": {},
   "source": [
    "# K-Nearest Neighbour (KNN)"
   ]
  },
  {
   "cell_type": "code",
   "execution_count": 60,
   "id": "e6b561a6",
   "metadata": {},
   "outputs": [
    {
     "name": "stdout",
     "output_type": "stream",
     "text": [
      "True           0     1\n",
      "Predicted             \n",
      "0          13979    22\n",
      "1            993  3693\n",
      "0.945684165462621\n",
      "              precision    recall  f1-score   support\n",
      "\n",
      "           0       1.00      0.93      0.96     14972\n",
      "           1       0.79      0.99      0.88      3715\n",
      "\n",
      "    accuracy                           0.95     18687\n",
      "   macro avg       0.89      0.96      0.92     18687\n",
      "weighted avg       0.96      0.95      0.95     18687\n",
      "\n"
     ]
    }
   ],
   "source": [
    "from sklearn.neighbors import KNeighborsClassifier\n",
    "knn = KNeighborsClassifier()\n",
    "knn.fit(X_train, Y_train)\n",
    "y_pred_knn = knn.predict(X_test)\n",
    "\n",
    "cm_knn = pd.DataFrame(confusion_matrix(Y_test, y_pred_knn).T, index=knn.classes_,\n",
    "                     columns=knn.classes_)\n",
    "cm_knn.index.name = 'Predicted'\n",
    "cm_knn.columns.name = 'True'\n",
    "print(cm_knn)\n",
    "print(accuracy_score(Y_test, y_pred_knn))\n",
    "print(classification_report(Y_test, y_pred_knn))"
   ]
  },
  {
   "cell_type": "markdown",
   "id": "ee93dc12",
   "metadata": {},
   "source": [
    "# Hyperparameter tuning for KNN"
   ]
  },
  {
   "cell_type": "code",
   "execution_count": 61,
   "id": "59fc6cf9",
   "metadata": {},
   "outputs": [
    {
     "data": {
      "text/plain": [
       "GridSearchCV(cv=5, estimator=KNeighborsClassifier(),\n",
       "             param_grid={'n_neighbors': array([ 1,  2,  3,  4,  5,  6,  7,  8,  9, 10, 11, 12, 13, 14, 15, 16, 17,\n",
       "       18, 19, 20, 21, 22, 23, 24])})"
      ]
     },
     "execution_count": 61,
     "metadata": {},
     "output_type": "execute_result"
    }
   ],
   "source": [
    "from sklearn.model_selection import GridSearchCV\n",
    "#create a dictionary of all values we want to test for n_neighbors\n",
    "param_grid = {'n_neighbors': np.arange(1, 25)}\n",
    "#use gridsearch to test all values for n_neighbors\n",
    "knn_gscv = GridSearchCV(knn, param_grid, cv=5)\n",
    "#fit model to data\n",
    "knn_gscv.fit(X, Y)"
   ]
  },
  {
   "cell_type": "code",
   "execution_count": 62,
   "id": "95984c96",
   "metadata": {},
   "outputs": [
    {
     "name": "stdout",
     "output_type": "stream",
     "text": [
      "Best Score:0.9834157593307363\n",
      "Best Parameters: {'n_neighbors': 1}\n"
     ]
    }
   ],
   "source": [
    "print(\"Best Score:\" + str(knn_gscv.best_score_)) \n",
    "print(\"Best Parameters: \" + str(knn_gscv.best_params_))"
   ]
  },
  {
   "cell_type": "markdown",
   "id": "4f949277",
   "metadata": {},
   "source": [
    "# Support Vector Classifier (SVC)"
   ]
  },
  {
   "cell_type": "code",
   "execution_count": 63,
   "id": "3244ea4a",
   "metadata": {},
   "outputs": [
    {
     "name": "stdout",
     "output_type": "stream",
     "text": [
      "True           0     1\n",
      "Predicted             \n",
      "0          14972  3715\n",
      "1              0     0\n",
      "0.8011986942794456\n",
      "              precision    recall  f1-score   support\n",
      "\n",
      "           0       0.80      1.00      0.89     14972\n",
      "           1       0.00      0.00      0.00      3715\n",
      "\n",
      "    accuracy                           0.80     18687\n",
      "   macro avg       0.40      0.50      0.44     18687\n",
      "weighted avg       0.64      0.80      0.71     18687\n",
      "\n"
     ]
    }
   ],
   "source": [
    "from sklearn.svm import SVC\n",
    "svc = SVC()\n",
    "svc.fit(X_train, Y_train)\n",
    "y_pred_svc = svc.predict(X_test)\n",
    "\n",
    "cm_svc = pd.DataFrame(confusion_matrix(Y_test, y_pred_svc).T, index=svc.classes_,\n",
    "                     columns=svc.classes_)\n",
    "cm_svc.index.name = 'Predicted'\n",
    "cm_svc.columns.name = 'True'\n",
    "print(cm_svc)\n",
    "print(accuracy_score(Y_test, y_pred_svc))\n",
    "print(classification_report(Y_test, y_pred_svc))"
   ]
  },
  {
   "cell_type": "markdown",
   "id": "47953024",
   "metadata": {},
   "source": [
    "# Hyperparameter tuning for SVC"
   ]
  },
  {
   "cell_type": "code",
   "execution_count": 64,
   "id": "88f674c2",
   "metadata": {},
   "outputs": [],
   "source": [
    "#param_grid = {'C': [0.1,1, 10, 100], 'gamma': [1,0.1,0.01,0.001],'kernel': ['rbf']}"
   ]
  },
  {
   "cell_type": "code",
   "execution_count": 65,
   "id": "8b4c507c",
   "metadata": {},
   "outputs": [],
   "source": [
    "#grid = GridSearchCV(svc,param_grid,refit=True,verbose=3)\n",
    "#grid.fit(X_train,y_train)"
   ]
  },
  {
   "cell_type": "code",
   "execution_count": 66,
   "id": "f33e43d5",
   "metadata": {},
   "outputs": [],
   "source": [
    "#print(grid.best_estimator_)"
   ]
  },
  {
   "cell_type": "code",
   "execution_count": 67,
   "id": "6ea9e3a8",
   "metadata": {},
   "outputs": [
    {
     "data": {
      "text/html": [
       "<div>\n",
       "<style scoped>\n",
       "    .dataframe tbody tr th:only-of-type {\n",
       "        vertical-align: middle;\n",
       "    }\n",
       "\n",
       "    .dataframe tbody tr th {\n",
       "        vertical-align: top;\n",
       "    }\n",
       "\n",
       "    .dataframe thead th {\n",
       "        text-align: right;\n",
       "    }\n",
       "</style>\n",
       "<table border=\"1\" class=\"dataframe\">\n",
       "  <thead>\n",
       "    <tr style=\"text-align: right;\">\n",
       "      <th></th>\n",
       "      <th>Model</th>\n",
       "      <th>Accuracy score</th>\n",
       "    </tr>\n",
       "  </thead>\n",
       "  <tbody>\n",
       "    <tr>\n",
       "      <th>0</th>\n",
       "      <td>Random Forest Classifier</td>\n",
       "      <td>0.994435</td>\n",
       "    </tr>\n",
       "    <tr>\n",
       "      <th>1</th>\n",
       "      <td>Decision Tree</td>\n",
       "      <td>0.979130</td>\n",
       "    </tr>\n",
       "    <tr>\n",
       "      <th>4</th>\n",
       "      <td>KNN</td>\n",
       "      <td>0.945684</td>\n",
       "    </tr>\n",
       "    <tr>\n",
       "      <th>2</th>\n",
       "      <td>Logistic Regression</td>\n",
       "      <td>0.823514</td>\n",
       "    </tr>\n",
       "    <tr>\n",
       "      <th>3</th>\n",
       "      <td>Naive Bayes</td>\n",
       "      <td>0.809868</td>\n",
       "    </tr>\n",
       "    <tr>\n",
       "      <th>5</th>\n",
       "      <td>SVC</td>\n",
       "      <td>0.801199</td>\n",
       "    </tr>\n",
       "  </tbody>\n",
       "</table>\n",
       "</div>"
      ],
      "text/plain": [
       "                      Model  Accuracy score\n",
       "0  Random Forest Classifier        0.994435\n",
       "1             Decision Tree        0.979130\n",
       "4                       KNN        0.945684\n",
       "2       Logistic Regression        0.823514\n",
       "3               Naive Bayes        0.809868\n",
       "5                       SVC        0.801199"
      ]
     },
     "execution_count": 67,
     "metadata": {},
     "output_type": "execute_result"
    }
   ],
   "source": [
    "models = [['Random Forest Classifier', accuracy_score(Y_test, y_pred_rf)],['Decision Tree', accuracy_score(Y_test, y_pred_dtc)],\n",
    "           ['Logistic Regression', logreg.score(X_test, Y_test)], \n",
    "           ['Naive Bayes', accuracy_score(Y_test, y_pred_gnb)], \n",
    "           ['KNN', accuracy_score(Y_test, y_pred_knn)], ['SVC',accuracy_score(Y_test, y_pred_svc)]]\n",
    "\n",
    "df = pd.DataFrame(models, columns=['Model', 'Accuracy score'])\n",
    "df = df.sort_values(by='Accuracy score', ascending=False)\n",
    "df"
   ]
  },
  {
   "cell_type": "code",
   "execution_count": 68,
   "id": "3b40ebf2",
   "metadata": {},
   "outputs": [
    {
     "data": {
      "text/html": [
       "<div>\n",
       "<style scoped>\n",
       "    .dataframe tbody tr th:only-of-type {\n",
       "        vertical-align: middle;\n",
       "    }\n",
       "\n",
       "    .dataframe tbody tr th {\n",
       "        vertical-align: top;\n",
       "    }\n",
       "\n",
       "    .dataframe thead th {\n",
       "        text-align: right;\n",
       "    }\n",
       "</style>\n",
       "<table border=\"1\" class=\"dataframe\">\n",
       "  <thead>\n",
       "    <tr style=\"text-align: right;\">\n",
       "      <th></th>\n",
       "      <th>Model after tuning</th>\n",
       "      <th>Accuracy score</th>\n",
       "    </tr>\n",
       "  </thead>\n",
       "  <tbody>\n",
       "    <tr>\n",
       "      <th>4</th>\n",
       "      <td>KNN</td>\n",
       "      <td>0.983416</td>\n",
       "    </tr>\n",
       "    <tr>\n",
       "      <th>1</th>\n",
       "      <td>Decision Tree</td>\n",
       "      <td>0.877134</td>\n",
       "    </tr>\n",
       "    <tr>\n",
       "      <th>2</th>\n",
       "      <td>Logistic Regression</td>\n",
       "      <td>0.825073</td>\n",
       "    </tr>\n",
       "    <tr>\n",
       "      <th>3</th>\n",
       "      <td>Naive Bayes</td>\n",
       "      <td>0.824923</td>\n",
       "    </tr>\n",
       "    <tr>\n",
       "      <th>0</th>\n",
       "      <td>Random Forest Classifier</td>\n",
       "      <td>0.815096</td>\n",
       "    </tr>\n",
       "    <tr>\n",
       "      <th>5</th>\n",
       "      <td>SVC</td>\n",
       "      <td>0.801199</td>\n",
       "    </tr>\n",
       "  </tbody>\n",
       "</table>\n",
       "</div>"
      ],
      "text/plain": [
       "         Model after tuning  Accuracy score\n",
       "4                       KNN        0.983416\n",
       "1             Decision Tree        0.877134\n",
       "2       Logistic Regression        0.825073\n",
       "3               Naive Bayes        0.824923\n",
       "0  Random Forest Classifier        0.815096\n",
       "5                       SVC        0.801199"
      ]
     },
     "execution_count": 68,
     "metadata": {},
     "output_type": "execute_result"
    }
   ],
   "source": [
    "tun_models = [['Random Forest Classifier',CV_rfc.best_score_],['Decision Tree', accuracy_score(Y_test, pred_dtc)],\n",
    "           ['Logistic Regression', clf.best_score_], \n",
    "           ['Naive Bayes', gs_NB.best_score_], \n",
    "           ['KNN', knn_gscv.best_score_], ['SVC',accuracy_score(Y_test, y_pred_svc)]]\n",
    "\n",
    "df = pd.DataFrame(tun_models, columns=['Model after tuning', 'Accuracy score'])\n",
    "df = df.sort_values(by='Accuracy score', ascending=False)\n",
    "df"
   ]
  },
  {
   "cell_type": "markdown",
   "id": "84844808",
   "metadata": {},
   "source": [
    "# Imbalance"
   ]
  },
  {
   "cell_type": "code",
   "execution_count": 69,
   "id": "753a7d74-7e24-4ebb-bf12-32cda6ad0350",
   "metadata": {},
   "outputs": [
    {
     "data": {
      "text/plain": [
       "((46716, 10), (15572, 10), (46716,), (15572,))"
      ]
     },
     "execution_count": 69,
     "metadata": {},
     "output_type": "execute_result"
    }
   ],
   "source": [
    "#split between training and test set, default 4:1\n",
    "X_train1, X_test1, y_train, y_test = train_test_split(X, Y)\n",
    "X_train1.shape, X_test1.shape, y_train.shape, y_test.shape"
   ]
  },
  {
   "cell_type": "markdown",
   "id": "69932e07-72ee-406e-92d5-169e1d4187a5",
   "metadata": {},
   "source": [
    "### Observation from SMOTE/PCA\n",
    "\n",
    "#### We note that using SMOTE on the features affects the results of 2D PCA.\n",
    "\n",
    "#### We do not expect the classifier to perform well as there appears to be no clear boundary between 'Yes' and 'No' claims."
   ]
  },
  {
   "cell_type": "code",
   "execution_count": 70,
   "id": "10ba7b75-7692-4e01-bf39-0146d4403adb",
   "metadata": {},
   "outputs": [
    {
     "data": {
      "text/html": [
       "<div>\n",
       "<style scoped>\n",
       "    .dataframe tbody tr th:only-of-type {\n",
       "        vertical-align: middle;\n",
       "    }\n",
       "\n",
       "    .dataframe tbody tr th {\n",
       "        vertical-align: top;\n",
       "    }\n",
       "\n",
       "    .dataframe thead th {\n",
       "        text-align: right;\n",
       "    }\n",
       "</style>\n",
       "<table border=\"1\" class=\"dataframe\">\n",
       "  <thead>\n",
       "    <tr style=\"text-align: right;\">\n",
       "      <th></th>\n",
       "      <th>ID</th>\n",
       "      <th>Age</th>\n",
       "      <th>Commision (in value)</th>\n",
       "      <th>Duration</th>\n",
       "      <th>Net Sales</th>\n",
       "      <th>Claim</th>\n",
       "      <th>Dest_fe</th>\n",
       "      <th>Agency_fe</th>\n",
       "      <th>Product Name_fe</th>\n",
       "      <th>Agency Type_Travel Agency</th>\n",
       "      <th>Distribution Channel_Online</th>\n",
       "      <th>Claim_Target</th>\n",
       "    </tr>\n",
       "  </thead>\n",
       "  <tbody>\n",
       "    <tr>\n",
       "      <th>0</th>\n",
       "      <td>45341</td>\n",
       "      <td>28.0</td>\n",
       "      <td>28.13</td>\n",
       "      <td>34</td>\n",
       "      <td>112.5</td>\n",
       "      <td>1</td>\n",
       "      <td>0.285705</td>\n",
       "      <td>0.218469</td>\n",
       "      <td>0.058535</td>\n",
       "      <td>0</td>\n",
       "      <td>1</td>\n",
       "      <td>0</td>\n",
       "    </tr>\n",
       "    <tr>\n",
       "      <th>1</th>\n",
       "      <td>12958</td>\n",
       "      <td>37.0</td>\n",
       "      <td>12.95</td>\n",
       "      <td>53</td>\n",
       "      <td>37.0</td>\n",
       "      <td>0</td>\n",
       "      <td>0.032928</td>\n",
       "      <td>0.086951</td>\n",
       "      <td>0.074894</td>\n",
       "      <td>0</td>\n",
       "      <td>1</td>\n",
       "      <td>0</td>\n",
       "    </tr>\n",
       "    <tr>\n",
       "      <th>2</th>\n",
       "      <td>18233</td>\n",
       "      <td>27.0</td>\n",
       "      <td>0.00</td>\n",
       "      <td>28</td>\n",
       "      <td>13.0</td>\n",
       "      <td>0</td>\n",
       "      <td>0.040265</td>\n",
       "      <td>0.488296</td>\n",
       "      <td>0.246500</td>\n",
       "      <td>1</td>\n",
       "      <td>1</td>\n",
       "      <td>0</td>\n",
       "    </tr>\n",
       "    <tr>\n",
       "      <th>3</th>\n",
       "      <td>31742</td>\n",
       "      <td>36.0</td>\n",
       "      <td>0.00</td>\n",
       "      <td>1</td>\n",
       "      <td>34.0</td>\n",
       "      <td>0</td>\n",
       "      <td>0.000819</td>\n",
       "      <td>0.488296</td>\n",
       "      <td>0.246500</td>\n",
       "      <td>1</td>\n",
       "      <td>1</td>\n",
       "      <td>0</td>\n",
       "    </tr>\n",
       "    <tr>\n",
       "      <th>4</th>\n",
       "      <td>14381</td>\n",
       "      <td>26.0</td>\n",
       "      <td>23.76</td>\n",
       "      <td>33</td>\n",
       "      <td>39.6</td>\n",
       "      <td>0</td>\n",
       "      <td>0.083146</td>\n",
       "      <td>0.127729</td>\n",
       "      <td>0.127729</td>\n",
       "      <td>1</td>\n",
       "      <td>1</td>\n",
       "      <td>0</td>\n",
       "    </tr>\n",
       "  </tbody>\n",
       "</table>\n",
       "</div>"
      ],
      "text/plain": [
       "      ID   Age  Commision (in value)  Duration  Net Sales  Claim   Dest_fe  \\\n",
       "0  45341  28.0                 28.13        34      112.5      1  0.285705   \n",
       "1  12958  37.0                 12.95        53       37.0      0  0.032928   \n",
       "2  18233  27.0                  0.00        28       13.0      0  0.040265   \n",
       "3  31742  36.0                  0.00         1       34.0      0  0.000819   \n",
       "4  14381  26.0                 23.76        33       39.6      0  0.083146   \n",
       "\n",
       "   Agency_fe  Product Name_fe  Agency Type_Travel Agency  \\\n",
       "0   0.218469         0.058535                          0   \n",
       "1   0.086951         0.074894                          0   \n",
       "2   0.488296         0.246500                          1   \n",
       "3   0.488296         0.246500                          1   \n",
       "4   0.127729         0.127729                          1   \n",
       "\n",
       "   Distribution Channel_Online  Claim_Target  \n",
       "0                            1             0  \n",
       "1                            1             0  \n",
       "2                            1             0  \n",
       "3                            1             0  \n",
       "4                            1             0  "
      ]
     },
     "execution_count": 70,
     "metadata": {},
     "output_type": "execute_result"
    }
   ],
   "source": [
    "data[\"Claim_Target\"] = np.where(data[\"Claim\"]=='Yes', 1, 0)\n",
    "data.head()"
   ]
  },
  {
   "cell_type": "code",
   "execution_count": 71,
   "id": "fd45ce86-da9b-4324-8324-921f936007e9",
   "metadata": {},
   "outputs": [
    {
     "data": {
      "text/html": [
       "<div>\n",
       "<style scoped>\n",
       "    .dataframe tbody tr th:only-of-type {\n",
       "        vertical-align: middle;\n",
       "    }\n",
       "\n",
       "    .dataframe tbody tr th {\n",
       "        vertical-align: top;\n",
       "    }\n",
       "\n",
       "    .dataframe thead th {\n",
       "        text-align: right;\n",
       "    }\n",
       "</style>\n",
       "<table border=\"1\" class=\"dataframe\">\n",
       "  <thead>\n",
       "    <tr style=\"text-align: right;\">\n",
       "      <th></th>\n",
       "      <th>Duration</th>\n",
       "      <th>Net Sales</th>\n",
       "      <th>Commision (in value)</th>\n",
       "      <th>Age</th>\n",
       "      <th>ID</th>\n",
       "      <th>Claim</th>\n",
       "      <th>...</th>\n",
       "      <th>Agency_fe</th>\n",
       "      <th>Product Name_fe</th>\n",
       "      <th>Agency Type_Travel Agency</th>\n",
       "      <th>Agency Type_Travel Agency</th>\n",
       "      <th>Distribution Channel_Online</th>\n",
       "      <th>Claim_Target</th>\n",
       "    </tr>\n",
       "  </thead>\n",
       "  <tbody>\n",
       "    <tr>\n",
       "      <th>0</th>\n",
       "      <td>34</td>\n",
       "      <td>112.5</td>\n",
       "      <td>28.13</td>\n",
       "      <td>28.0</td>\n",
       "      <td>45341</td>\n",
       "      <td>1</td>\n",
       "      <td>...</td>\n",
       "      <td>0.218469</td>\n",
       "      <td>0.058535</td>\n",
       "      <td>0</td>\n",
       "      <td>0</td>\n",
       "      <td>1</td>\n",
       "      <td>0</td>\n",
       "    </tr>\n",
       "    <tr>\n",
       "      <th>1</th>\n",
       "      <td>53</td>\n",
       "      <td>37.0</td>\n",
       "      <td>12.95</td>\n",
       "      <td>37.0</td>\n",
       "      <td>12958</td>\n",
       "      <td>0</td>\n",
       "      <td>...</td>\n",
       "      <td>0.086951</td>\n",
       "      <td>0.074894</td>\n",
       "      <td>0</td>\n",
       "      <td>0</td>\n",
       "      <td>1</td>\n",
       "      <td>0</td>\n",
       "    </tr>\n",
       "    <tr>\n",
       "      <th>2</th>\n",
       "      <td>28</td>\n",
       "      <td>13.0</td>\n",
       "      <td>0.00</td>\n",
       "      <td>27.0</td>\n",
       "      <td>18233</td>\n",
       "      <td>0</td>\n",
       "      <td>...</td>\n",
       "      <td>0.488296</td>\n",
       "      <td>0.246500</td>\n",
       "      <td>1</td>\n",
       "      <td>1</td>\n",
       "      <td>1</td>\n",
       "      <td>0</td>\n",
       "    </tr>\n",
       "    <tr>\n",
       "      <th>3</th>\n",
       "      <td>1</td>\n",
       "      <td>34.0</td>\n",
       "      <td>0.00</td>\n",
       "      <td>36.0</td>\n",
       "      <td>31742</td>\n",
       "      <td>0</td>\n",
       "      <td>...</td>\n",
       "      <td>0.488296</td>\n",
       "      <td>0.246500</td>\n",
       "      <td>1</td>\n",
       "      <td>1</td>\n",
       "      <td>1</td>\n",
       "      <td>0</td>\n",
       "    </tr>\n",
       "    <tr>\n",
       "      <th>4</th>\n",
       "      <td>33</td>\n",
       "      <td>39.6</td>\n",
       "      <td>23.76</td>\n",
       "      <td>26.0</td>\n",
       "      <td>14381</td>\n",
       "      <td>0</td>\n",
       "      <td>...</td>\n",
       "      <td>0.127729</td>\n",
       "      <td>0.127729</td>\n",
       "      <td>1</td>\n",
       "      <td>1</td>\n",
       "      <td>1</td>\n",
       "      <td>0</td>\n",
       "    </tr>\n",
       "  </tbody>\n",
       "</table>\n",
       "<p>5 rows × 13 columns</p>\n",
       "</div>"
      ],
      "text/plain": [
       "   Duration  Net Sales  Commision (in value)   Age     ID  Claim  ...  \\\n",
       "0        34      112.5                 28.13  28.0  45341      1  ...   \n",
       "1        53       37.0                 12.95  37.0  12958      0  ...   \n",
       "2        28       13.0                  0.00  27.0  18233      0  ...   \n",
       "3         1       34.0                  0.00  36.0  31742      0  ...   \n",
       "4        33       39.6                 23.76  26.0  14381      0  ...   \n",
       "\n",
       "   Agency_fe  Product Name_fe  Agency Type_Travel Agency  \\\n",
       "0   0.218469         0.058535                          0   \n",
       "1   0.086951         0.074894                          0   \n",
       "2   0.488296         0.246500                          1   \n",
       "3   0.488296         0.246500                          1   \n",
       "4   0.127729         0.127729                          1   \n",
       "\n",
       "   Agency Type_Travel Agency  Distribution Channel_Online  Claim_Target  \n",
       "0                          0                            1             0  \n",
       "1                          0                            1             0  \n",
       "2                          1                            1             0  \n",
       "3                          1                            1             0  \n",
       "4                          1                            1             0  \n",
       "\n",
       "[5 rows x 13 columns]"
      ]
     },
     "execution_count": 71,
     "metadata": {},
     "output_type": "execute_result"
    }
   ],
   "source": [
    "#split dataset between features and target\n",
    "features=['Duration', 'Net Sales', 'Commision (in value)', 'Age', 'ID', 'Claim', 'Dest_fe', 'Agency_fe', 'Product Name_fe', 'Agency Type_Travel Agency', 'Agency Type_Travel Agency', 'Distribution Channel_Online', 'Claim_Target']\n",
    "target = \"Claim_Target\"\n",
    "\n",
    "X = data.loc[:, features]\n",
    "y = data[target]\n",
    "X.head()"
   ]
  },
  {
   "cell_type": "code",
   "execution_count": 72,
   "id": "61bfdc3a-481d-4be0-8db5-43200c3aa54f",
   "metadata": {},
   "outputs": [
    {
     "data": {
      "text/plain": [
       "0    62288\n",
       "Name: Claim_Target, dtype: int64"
      ]
     },
     "execution_count": 72,
     "metadata": {},
     "output_type": "execute_result"
    }
   ],
   "source": [
    "#check imbalance dataset\n",
    "data[\"Claim_Target\"].value_counts(dropna=False)"
   ]
  },
  {
   "cell_type": "code",
   "execution_count": 73,
   "id": "aa328627-400f-4184-b4cf-0227517204c9",
   "metadata": {},
   "outputs": [
    {
     "data": {
      "text/plain": [
       "13"
      ]
     },
     "execution_count": 73,
     "metadata": {},
     "output_type": "execute_result"
    }
   ],
   "source": [
    "num_input_features = len(features)\n",
    "num_input_features"
   ]
  },
  {
   "cell_type": "markdown",
   "id": "dc78d3d0-e4e6-4ffa-a4b2-6f04d30043b0",
   "metadata": {},
   "source": [
    "### Here is can see the data set is Completely imbalanced.\n",
    "\n",
    "I have tried below methods to get the best model,\n",
    "\n",
    "1,OverSampling\n",
    "\n",
    "2,UnderSampling\n",
    "\n",
    "3,SMOTE\n",
    "\n",
    "4,giving Weighted sums\n",
    "\n",
    "changing models like logistic regression, SVM, DT, Random Forest and Bossting algorithm also.\n",
    "\n",
    "\n",
    "Fortunately Random Forest with balancing the Class weight according to dataset gave me the best Metrics."
   ]
  },
  {
   "cell_type": "code",
   "execution_count": 74,
   "id": "2701c4c3-3b6b-42c8-a469-fc19541d393e",
   "metadata": {},
   "outputs": [
    {
     "name": "stdout",
     "output_type": "stream",
     "text": [
      "<class 'pandas.core.frame.DataFrame'>\n",
      "RangeIndex: 62288 entries, 0 to 62287\n",
      "Data columns (total 12 columns):\n",
      " #   Column                       Non-Null Count  Dtype  \n",
      "---  ------                       --------------  -----  \n",
      " 0   ID                           62288 non-null  int64  \n",
      " 1   Age                          62288 non-null  float64\n",
      " 2   Commision (in value)         62288 non-null  float64\n",
      " 3   Duration                     62288 non-null  int64  \n",
      " 4   Net Sales                    62288 non-null  float64\n",
      " 5   Claim                        62288 non-null  int64  \n",
      " 6   Dest_fe                      62288 non-null  float64\n",
      " 7   Agency_fe                    62288 non-null  float64\n",
      " 8   Product Name_fe              62288 non-null  float64\n",
      " 9   Agency Type_Travel Agency    62288 non-null  uint8  \n",
      " 10  Distribution Channel_Online  62288 non-null  uint8  \n",
      " 11  Claim_Target                 62288 non-null  int64  \n",
      "dtypes: float64(6), int64(4), uint8(2)\n",
      "memory usage: 4.9 MB\n"
     ]
    }
   ],
   "source": [
    "df_numerical=data._get_numeric_data()\n",
    "df_numerical.info()"
   ]
  },
  {
   "cell_type": "code",
   "execution_count": 75,
   "id": "2d195a26-0c03-4810-b6f5-5ab603621468",
   "metadata": {},
   "outputs": [
    {
     "name": "stdout",
     "output_type": "stream",
     "text": [
      "(62288, 12)\n",
      "(62288,)\n",
      "score on test set: 1.0\n",
      "              precision    recall  f1-score   support\n",
      "\n",
      "           0       1.00      1.00      1.00     14949\n",
      "           1       1.00      1.00      1.00      3738\n",
      "\n",
      "    accuracy                           1.00     18687\n",
      "   macro avg       1.00      1.00      1.00     18687\n",
      "weighted avg       1.00      1.00      1.00     18687\n",
      "\n"
     ]
    }
   ],
   "source": [
    "from sklearn.ensemble import RandomForestClassifier\n",
    "import sklearn.metrics as metrics\n",
    "Y = data['Claim']\n",
    "X=df_numerical\n",
    "print(X.shape)\n",
    "print(Y.shape)\n",
    "# Splitting the dataset into train and test \n",
    "X_train, X_test, y_train, y_test = train_test_split(  \n",
    "X, Y, test_size = 0.3, random_state = 100, stratify=Y)\n",
    "\n",
    "clf =  RandomForestClassifier(n_estimators=100,random_state=0,class_weight={0: 1, 1: 98.5})\n",
    "clf.fit(X_train, y_train)\n",
    "\n",
    "pred = clf.predict(X_test)\n",
    "print('score on test set:', clf.score(X_test, y_test))\n",
    "print(metrics.classification_report(y_true=y_test, y_pred=pred))"
   ]
  },
  {
   "cell_type": "code",
   "execution_count": 76,
   "id": "96e776b7-8fa8-4358-a9fc-4a2a08915c79",
   "metadata": {},
   "outputs": [
    {
     "data": {
      "text/plain": [
       "<AxesSubplot:>"
      ]
     },
     "execution_count": 76,
     "metadata": {},
     "output_type": "execute_result"
    },
    {
     "data": {
      "image/png": "[encoded data removed]",
      "text/plain": [
       "<Figure size 576x432 with 2 Axes>"
      ]
     },
     "metadata": {
      "needs_background": "light"
     },
     "output_type": "display_data"
    }
   ],
   "source": [
    "from sklearn.metrics import confusion_matrix\n",
    "mat=confusion_matrix(y_test, pred)\n",
    "sns.heatmap(mat,square=True,annot=True,fmt='d',cbar='True', cmap=plt.cm.Greens)"
   ]
  },
  {
   "cell_type": "code",
   "execution_count": 77,
   "id": "84edd8e1-2b3b-4955-a72e-20da304f01ea",
   "metadata": {},
   "outputs": [
    {
     "name": "stdout",
     "output_type": "stream",
     "text": [
      "[[1. 0.]\n",
      " [1. 0.]\n",
      " [1. 0.]\n",
      " ...\n",
      " [1. 0.]\n",
      " [1. 0.]\n",
      " [1. 0.]]\n"
     ]
    }
   ],
   "source": [
    "from sklearn.metrics import roc_curve, auc, roc_auc_score\n",
    "scores = clf.predict_proba(X_test)\n",
    "print(scores)"
   ]
  },
  {
   "cell_type": "markdown",
   "id": "81982a4c-888a-4bb1-ac3f-529837561b5e",
   "metadata": {},
   "source": [
    "# Conclusion"
   ]
  },
  {
   "cell_type": "markdown",
   "id": "fd6f41b9-2201-4f44-9779-3d4a911c0fd5",
   "metadata": {},
   "source": [
    "In conclusion, we can say that the use of classification models and data processing and observation of the results that were made during data analysis, we were able to achieve useful ideas. For our project, we use agencies about the destination, the type of agency, the name of the product, the floor. And these data were used for a random forest classifier, hyperparameter settings, logistics regression, classifier of decisions, KNN, imbalance to get the desired results."
   ]
  }
 ],
 "metadata": {
  "kernelspec": {
   "display_name": "Python 3",
   "language": "python",
   "name": "python3"
  },
  "language_info": {
   "codemirror_mode": {
    "name": "ipython",
    "version": 3
   },
   "file_extension": ".py",
   "mimetype": "text/x-python",
   "name": "python",
   "nbconvert_exporter": "python",
   "pygments_lexer": "ipython3",
   "version": "3.8.8"
  }
 },
 "nbformat": 4,
 "nbformat_minor": 5
}
